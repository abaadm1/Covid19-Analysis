{
  "nbformat": 4,
  "nbformat_minor": 0,
  "metadata": {
    "colab": {
      "name": "Covid19 Dataset Analysis.ipynb",
      "provenance": [],
      "collapsed_sections": []
    },
    "kernelspec": {
      "name": "python3",
      "display_name": "Python 3"
    },
    "language_info": {
      "name": "python"
    }
  },
  "cells": [
    {
      "cell_type": "code",
      "metadata": {
        "id": "zIva2-BPfVzR"
      },
      "source": [
        "import pandas as pd\n",
        "import seaborn as sns\n",
        "import matplotlib.pyplot as plt\n",
        "%matplotlib inline"
      ],
      "execution_count": 20,
      "outputs": []
    },
    {
      "cell_type": "code",
      "metadata": {
        "id": "hGVvPRMwfcBC"
      },
      "source": [
        "covid_df = pd.read_csv('/content/4. covid_19_data.csv')"
      ],
      "execution_count": 2,
      "outputs": []
    },
    {
      "cell_type": "code",
      "metadata": {
        "colab": {
          "base_uri": "https://localhost:8080/",
          "height": 422
        },
        "id": "CWoG6TyygVEo",
        "outputId": "e2d13f46-192f-417e-c10b-ae7e7b518a08"
      },
      "source": [
        "covid_df"
      ],
      "execution_count": 3,
      "outputs": [
        {
          "output_type": "execute_result",
          "data": {
            "text/html": [
              "<div>\n",
              "<style scoped>\n",
              "    .dataframe tbody tr th:only-of-type {\n",
              "        vertical-align: middle;\n",
              "    }\n",
              "\n",
              "    .dataframe tbody tr th {\n",
              "        vertical-align: top;\n",
              "    }\n",
              "\n",
              "    .dataframe thead th {\n",
              "        text-align: right;\n",
              "    }\n",
              "</style>\n",
              "<table border=\"1\" class=\"dataframe\">\n",
              "  <thead>\n",
              "    <tr style=\"text-align: right;\">\n",
              "      <th></th>\n",
              "      <th>Date</th>\n",
              "      <th>State</th>\n",
              "      <th>Region</th>\n",
              "      <th>Confirmed</th>\n",
              "      <th>Deaths</th>\n",
              "      <th>Recovered</th>\n",
              "    </tr>\n",
              "  </thead>\n",
              "  <tbody>\n",
              "    <tr>\n",
              "      <th>0</th>\n",
              "      <td>4/29/2020</td>\n",
              "      <td>NaN</td>\n",
              "      <td>Afghanistan</td>\n",
              "      <td>1939</td>\n",
              "      <td>60</td>\n",
              "      <td>252</td>\n",
              "    </tr>\n",
              "    <tr>\n",
              "      <th>1</th>\n",
              "      <td>4/29/2020</td>\n",
              "      <td>NaN</td>\n",
              "      <td>Albania</td>\n",
              "      <td>766</td>\n",
              "      <td>30</td>\n",
              "      <td>455</td>\n",
              "    </tr>\n",
              "    <tr>\n",
              "      <th>2</th>\n",
              "      <td>4/29/2020</td>\n",
              "      <td>NaN</td>\n",
              "      <td>Algeria</td>\n",
              "      <td>3848</td>\n",
              "      <td>444</td>\n",
              "      <td>1702</td>\n",
              "    </tr>\n",
              "    <tr>\n",
              "      <th>3</th>\n",
              "      <td>4/29/2020</td>\n",
              "      <td>NaN</td>\n",
              "      <td>Andorra</td>\n",
              "      <td>743</td>\n",
              "      <td>42</td>\n",
              "      <td>423</td>\n",
              "    </tr>\n",
              "    <tr>\n",
              "      <th>4</th>\n",
              "      <td>4/29/2020</td>\n",
              "      <td>NaN</td>\n",
              "      <td>Angola</td>\n",
              "      <td>27</td>\n",
              "      <td>2</td>\n",
              "      <td>7</td>\n",
              "    </tr>\n",
              "    <tr>\n",
              "      <th>...</th>\n",
              "      <td>...</td>\n",
              "      <td>...</td>\n",
              "      <td>...</td>\n",
              "      <td>...</td>\n",
              "      <td>...</td>\n",
              "      <td>...</td>\n",
              "    </tr>\n",
              "    <tr>\n",
              "      <th>316</th>\n",
              "      <td>4/29/2020</td>\n",
              "      <td>Wyoming</td>\n",
              "      <td>US</td>\n",
              "      <td>545</td>\n",
              "      <td>7</td>\n",
              "      <td>0</td>\n",
              "    </tr>\n",
              "    <tr>\n",
              "      <th>317</th>\n",
              "      <td>4/29/2020</td>\n",
              "      <td>Xinjiang</td>\n",
              "      <td>Mainland China</td>\n",
              "      <td>76</td>\n",
              "      <td>3</td>\n",
              "      <td>73</td>\n",
              "    </tr>\n",
              "    <tr>\n",
              "      <th>318</th>\n",
              "      <td>4/29/2020</td>\n",
              "      <td>Yukon</td>\n",
              "      <td>Canada</td>\n",
              "      <td>11</td>\n",
              "      <td>0</td>\n",
              "      <td>0</td>\n",
              "    </tr>\n",
              "    <tr>\n",
              "      <th>319</th>\n",
              "      <td>4/29/2020</td>\n",
              "      <td>Yunnan</td>\n",
              "      <td>Mainland China</td>\n",
              "      <td>185</td>\n",
              "      <td>2</td>\n",
              "      <td>181</td>\n",
              "    </tr>\n",
              "    <tr>\n",
              "      <th>320</th>\n",
              "      <td>4/29/2020</td>\n",
              "      <td>Zhejiang</td>\n",
              "      <td>Mainland China</td>\n",
              "      <td>1268</td>\n",
              "      <td>1</td>\n",
              "      <td>1263</td>\n",
              "    </tr>\n",
              "  </tbody>\n",
              "</table>\n",
              "<p>321 rows × 6 columns</p>\n",
              "</div>"
            ],
            "text/plain": [
              "          Date     State          Region  Confirmed  Deaths  Recovered\n",
              "0    4/29/2020       NaN     Afghanistan       1939      60        252\n",
              "1    4/29/2020       NaN         Albania        766      30        455\n",
              "2    4/29/2020       NaN         Algeria       3848     444       1702\n",
              "3    4/29/2020       NaN         Andorra        743      42        423\n",
              "4    4/29/2020       NaN          Angola         27       2          7\n",
              "..         ...       ...             ...        ...     ...        ...\n",
              "316  4/29/2020   Wyoming              US        545       7          0\n",
              "317  4/29/2020  Xinjiang  Mainland China         76       3         73\n",
              "318  4/29/2020     Yukon          Canada         11       0          0\n",
              "319  4/29/2020    Yunnan  Mainland China        185       2        181\n",
              "320  4/29/2020  Zhejiang  Mainland China       1268       1       1263\n",
              "\n",
              "[321 rows x 6 columns]"
            ]
          },
          "metadata": {
            "tags": []
          },
          "execution_count": 3
        }
      ]
    },
    {
      "cell_type": "markdown",
      "metadata": {
        "id": "503feyU_flvO"
      },
      "source": [
        "# Analyzing Dataset"
      ]
    },
    {
      "cell_type": "markdown",
      "metadata": {
        "id": "cbUEMg02fmAd"
      },
      "source": [
        "**.head()**\n",
        " \n",
        " It shows the first N rows in the data (by default, N=5)"
      ]
    },
    {
      "cell_type": "code",
      "metadata": {
        "colab": {
          "base_uri": "https://localhost:8080/",
          "height": 205
        },
        "id": "zwRqBxn4gKK6",
        "outputId": "bdb7b3bc-69e3-4af6-b198-6f783dadc94a"
      },
      "source": [
        "covid_df.head()"
      ],
      "execution_count": 4,
      "outputs": [
        {
          "output_type": "execute_result",
          "data": {
            "text/html": [
              "<div>\n",
              "<style scoped>\n",
              "    .dataframe tbody tr th:only-of-type {\n",
              "        vertical-align: middle;\n",
              "    }\n",
              "\n",
              "    .dataframe tbody tr th {\n",
              "        vertical-align: top;\n",
              "    }\n",
              "\n",
              "    .dataframe thead th {\n",
              "        text-align: right;\n",
              "    }\n",
              "</style>\n",
              "<table border=\"1\" class=\"dataframe\">\n",
              "  <thead>\n",
              "    <tr style=\"text-align: right;\">\n",
              "      <th></th>\n",
              "      <th>Date</th>\n",
              "      <th>State</th>\n",
              "      <th>Region</th>\n",
              "      <th>Confirmed</th>\n",
              "      <th>Deaths</th>\n",
              "      <th>Recovered</th>\n",
              "    </tr>\n",
              "  </thead>\n",
              "  <tbody>\n",
              "    <tr>\n",
              "      <th>0</th>\n",
              "      <td>4/29/2020</td>\n",
              "      <td>NaN</td>\n",
              "      <td>Afghanistan</td>\n",
              "      <td>1939</td>\n",
              "      <td>60</td>\n",
              "      <td>252</td>\n",
              "    </tr>\n",
              "    <tr>\n",
              "      <th>1</th>\n",
              "      <td>4/29/2020</td>\n",
              "      <td>NaN</td>\n",
              "      <td>Albania</td>\n",
              "      <td>766</td>\n",
              "      <td>30</td>\n",
              "      <td>455</td>\n",
              "    </tr>\n",
              "    <tr>\n",
              "      <th>2</th>\n",
              "      <td>4/29/2020</td>\n",
              "      <td>NaN</td>\n",
              "      <td>Algeria</td>\n",
              "      <td>3848</td>\n",
              "      <td>444</td>\n",
              "      <td>1702</td>\n",
              "    </tr>\n",
              "    <tr>\n",
              "      <th>3</th>\n",
              "      <td>4/29/2020</td>\n",
              "      <td>NaN</td>\n",
              "      <td>Andorra</td>\n",
              "      <td>743</td>\n",
              "      <td>42</td>\n",
              "      <td>423</td>\n",
              "    </tr>\n",
              "    <tr>\n",
              "      <th>4</th>\n",
              "      <td>4/29/2020</td>\n",
              "      <td>NaN</td>\n",
              "      <td>Angola</td>\n",
              "      <td>27</td>\n",
              "      <td>2</td>\n",
              "      <td>7</td>\n",
              "    </tr>\n",
              "  </tbody>\n",
              "</table>\n",
              "</div>"
            ],
            "text/plain": [
              "        Date State       Region  Confirmed  Deaths  Recovered\n",
              "0  4/29/2020   NaN  Afghanistan       1939      60        252\n",
              "1  4/29/2020   NaN      Albania        766      30        455\n",
              "2  4/29/2020   NaN      Algeria       3848     444       1702\n",
              "3  4/29/2020   NaN      Andorra        743      42        423\n",
              "4  4/29/2020   NaN       Angola         27       2          7"
            ]
          },
          "metadata": {
            "tags": []
          },
          "execution_count": 4
        }
      ]
    },
    {
      "cell_type": "markdown",
      "metadata": {
        "id": "OYRXRLb1fvN6"
      },
      "source": [
        "**.shape**\n",
        "\n",
        "It shows the total no. of rows and no. of columns of the dataframe"
      ]
    },
    {
      "cell_type": "code",
      "metadata": {
        "colab": {
          "base_uri": "https://localhost:8080/"
        },
        "id": "DhAO8kmkgZ5c",
        "outputId": "a1a424d2-cf80-42aa-f578-33a0c31fc245"
      },
      "source": [
        "covid_df.shape"
      ],
      "execution_count": 5,
      "outputs": [
        {
          "output_type": "execute_result",
          "data": {
            "text/plain": [
              "(321, 6)"
            ]
          },
          "metadata": {
            "tags": []
          },
          "execution_count": 5
        }
      ]
    },
    {
      "cell_type": "markdown",
      "metadata": {
        "id": "2EYWYrVHfxTC"
      },
      "source": [
        "**.index** \n",
        "\n",
        " This attribute provides the index of the dataframe"
      ]
    },
    {
      "cell_type": "code",
      "metadata": {
        "colab": {
          "base_uri": "https://localhost:8080/"
        },
        "id": "FsqoCWkTgbow",
        "outputId": "79038700-68bf-49e4-cd8e-f17f305ea99d"
      },
      "source": [
        "covid_df.index"
      ],
      "execution_count": 6,
      "outputs": [
        {
          "output_type": "execute_result",
          "data": {
            "text/plain": [
              "RangeIndex(start=0, stop=321, step=1)"
            ]
          },
          "metadata": {
            "tags": []
          },
          "execution_count": 6
        }
      ]
    },
    {
      "cell_type": "markdown",
      "metadata": {
        "id": "YXN0x3dlf0Ab"
      },
      "source": [
        "**.columns**\n",
        "\n",
        "It shows the name of each column"
      ]
    },
    {
      "cell_type": "code",
      "metadata": {
        "colab": {
          "base_uri": "https://localhost:8080/"
        },
        "id": "qeJ3nqdygfUC",
        "outputId": "b72c9fe4-6771-40e8-e06f-c036ac637254"
      },
      "source": [
        "covid_df.columns"
      ],
      "execution_count": 7,
      "outputs": [
        {
          "output_type": "execute_result",
          "data": {
            "text/plain": [
              "Index(['Date', 'State', 'Region', 'Confirmed', 'Deaths', 'Recovered'], dtype='object')"
            ]
          },
          "metadata": {
            "tags": []
          },
          "execution_count": 7
        }
      ]
    },
    {
      "cell_type": "markdown",
      "metadata": {
        "id": "YBYuF2wBf2mB"
      },
      "source": [
        "**.dtypes**\n",
        "\n",
        "It shows the data-type of each column"
      ]
    },
    {
      "cell_type": "code",
      "metadata": {
        "colab": {
          "base_uri": "https://localhost:8080/"
        },
        "id": "ESmoR62jgh1a",
        "outputId": "63ad2365-9e99-4d74-e4b8-66e6b0367c1e"
      },
      "source": [
        "covid_df.dtypes"
      ],
      "execution_count": 8,
      "outputs": [
        {
          "output_type": "execute_result",
          "data": {
            "text/plain": [
              "Date         object\n",
              "State        object\n",
              "Region       object\n",
              "Confirmed     int64\n",
              "Deaths        int64\n",
              "Recovered     int64\n",
              "dtype: object"
            ]
          },
          "metadata": {
            "tags": []
          },
          "execution_count": 8
        }
      ]
    },
    {
      "cell_type": "markdown",
      "metadata": {
        "id": "NkKvNyeSf4d7"
      },
      "source": [
        "**.unique()**\n",
        "\n",
        "In a column, it shows all the unique values. It can be applied on a single column only, not on the whole dataframe."
      ]
    },
    {
      "cell_type": "code",
      "metadata": {
        "colab": {
          "base_uri": "https://localhost:8080/"
        },
        "id": "mkqHOHvrgj9Z",
        "outputId": "38d646f3-5287-4d3e-e8b9-8ecd8bc1fd8a"
      },
      "source": [
        "covid_df['State'].unique()"
      ],
      "execution_count": 9,
      "outputs": [
        {
          "output_type": "execute_result",
          "data": {
            "text/plain": [
              "array([nan, 'Alabama', 'Alaska', 'Alberta', 'Anguilla', 'Anhui',\n",
              "       'Arizona', 'Arkansas', 'Aruba', 'Australian Capital Territory',\n",
              "       'Beijing', 'Bermuda', 'Bonaire, Sint Eustatius and Saba',\n",
              "       'British Columbia', 'British Virgin Islands', 'California',\n",
              "       'Cayman Islands', 'Channel Islands', 'Chongqing', 'Colorado',\n",
              "       'Connecticut', 'Curacao', 'Delaware',\n",
              "       'Diamond Princess cruise ship', 'District of Columbia',\n",
              "       'Falkland Islands (Malvinas)', 'Faroe Islands', 'Florida',\n",
              "       'French Guiana', 'French Polynesia', 'Fujian', 'Gansu', 'Georgia',\n",
              "       'Gibraltar', 'Grand Princess', 'Greenland', 'Guadeloupe', 'Guam',\n",
              "       'Guangdong', 'Guangxi', 'Guizhou', 'Hainan', 'Hawaii', 'Hebei',\n",
              "       'Heilongjiang', 'Henan', 'Hong Kong', 'Hubei', 'Hunan', 'Idaho',\n",
              "       'Illinois', 'Indiana', 'Inner Mongolia', 'Iowa', 'Isle of Man',\n",
              "       'Jiangsu', 'Jiangxi', 'Jilin', 'Kansas', 'Kentucky', 'Liaoning',\n",
              "       'Louisiana', 'Macau', 'Maine', 'Manitoba', 'Martinique',\n",
              "       'Maryland', 'Massachusetts', 'Mayotte', 'Michigan', 'Minnesota',\n",
              "       'Mississippi', 'Missouri', 'Montana', 'Montserrat', 'Nebraska',\n",
              "       'Nevada', 'New Brunswick', 'New Caledonia', 'New Hampshire',\n",
              "       'New Jersey', 'New Mexico', 'New South Wales', 'New York',\n",
              "       'Newfoundland and Labrador', 'Ningxia', 'North Carolina',\n",
              "       'North Dakota', 'Northern Mariana Islands', 'Northern Territory',\n",
              "       'Northwest Territories', 'Nova Scotia', 'Ohio', 'Oklahoma',\n",
              "       'Ontario', 'Oregon', 'Pennsylvania', 'Prince Edward Island',\n",
              "       'Puerto Rico', 'Qinghai', 'Quebec', 'Queensland', 'Recovered',\n",
              "       'Reunion', 'Rhode Island', 'Saint Barthelemy',\n",
              "       'Saint Pierre and Miquelon', 'Saskatchewan', 'Shaanxi', 'Shandong',\n",
              "       'Shanghai', 'Shanxi', 'Sichuan', 'Sint Maarten', 'South Australia',\n",
              "       'South Carolina', 'South Dakota', 'St Martin', 'Tasmania',\n",
              "       'Tennessee', 'Texas', 'Tianjin', 'Tibet',\n",
              "       'Turks and Caicos Islands', 'Utah', 'Vermont', 'Victoria',\n",
              "       'Virgin Islands', 'Virginia', 'Washington', 'West Virginia',\n",
              "       'Western Australia', 'Wisconsin', 'Wyoming', 'Xinjiang', 'Yukon',\n",
              "       'Yunnan', 'Zhejiang'], dtype=object)"
            ]
          },
          "metadata": {
            "tags": []
          },
          "execution_count": 9
        }
      ]
    },
    {
      "cell_type": "markdown",
      "metadata": {
        "id": "IpdgjvnSf6jZ"
      },
      "source": [
        "**.nunique()**\n",
        "\n",
        "It shows the total no. of unique values in each column. It can be applied on a single column as well as on the whole dataframe"
      ]
    },
    {
      "cell_type": "code",
      "metadata": {
        "colab": {
          "base_uri": "https://localhost:8080/"
        },
        "id": "1bb-_TnzgvY7",
        "outputId": "1cb70909-275d-4613-9b39-b45122a4016e"
      },
      "source": [
        "covid_df['State'].nunique()"
      ],
      "execution_count": 10,
      "outputs": [
        {
          "output_type": "execute_result",
          "data": {
            "text/plain": [
              "137"
            ]
          },
          "metadata": {
            "tags": []
          },
          "execution_count": 10
        }
      ]
    },
    {
      "cell_type": "markdown",
      "metadata": {
        "id": "EBmu5Hw3gAP6"
      },
      "source": [
        "**.count()**\n",
        "\n",
        "It shows the total no. of non-null values in each column. It can be applied on a single column as well as on the whole dataframe."
      ]
    },
    {
      "cell_type": "code",
      "metadata": {
        "colab": {
          "base_uri": "https://localhost:8080/"
        },
        "id": "L-p1uW3zgzZQ",
        "outputId": "fa4b2923-6cde-444d-dbc8-07a0b7c22834"
      },
      "source": [
        "covid_df.count()"
      ],
      "execution_count": 12,
      "outputs": [
        {
          "output_type": "execute_result",
          "data": {
            "text/plain": [
              "Date         321\n",
              "State        140\n",
              "Region       321\n",
              "Confirmed    321\n",
              "Deaths       321\n",
              "Recovered    321\n",
              "dtype: int64"
            ]
          },
          "metadata": {
            "tags": []
          },
          "execution_count": 12
        }
      ]
    },
    {
      "cell_type": "markdown",
      "metadata": {
        "id": "HrCbHTRdgCPg"
      },
      "source": [
        "**.value_counts**\n",
        "\n",
        "In a column, it shows all the unique values with their count. It can be applied on a single column only."
      ]
    },
    {
      "cell_type": "code",
      "metadata": {
        "colab": {
          "base_uri": "https://localhost:8080/"
        },
        "id": "0IX8YfHQg5ci",
        "outputId": "196916c9-6d85-4165-938e-905fe797f86d"
      },
      "source": [
        "covid_df.value_counts"
      ],
      "execution_count": 14,
      "outputs": [
        {
          "output_type": "execute_result",
          "data": {
            "text/plain": [
              "<bound method DataFrame.value_counts of           Date     State          Region  Confirmed  Deaths  Recovered\n",
              "0    4/29/2020       NaN     Afghanistan       1939      60        252\n",
              "1    4/29/2020       NaN         Albania        766      30        455\n",
              "2    4/29/2020       NaN         Algeria       3848     444       1702\n",
              "3    4/29/2020       NaN         Andorra        743      42        423\n",
              "4    4/29/2020       NaN          Angola         27       2          7\n",
              "..         ...       ...             ...        ...     ...        ...\n",
              "316  4/29/2020   Wyoming              US        545       7          0\n",
              "317  4/29/2020  Xinjiang  Mainland China         76       3         73\n",
              "318  4/29/2020     Yukon          Canada         11       0          0\n",
              "319  4/29/2020    Yunnan  Mainland China        185       2        181\n",
              "320  4/29/2020  Zhejiang  Mainland China       1268       1       1263\n",
              "\n",
              "[321 rows x 6 columns]>"
            ]
          },
          "metadata": {
            "tags": []
          },
          "execution_count": 14
        }
      ]
    },
    {
      "cell_type": "code",
      "metadata": {
        "colab": {
          "base_uri": "https://localhost:8080/"
        },
        "id": "87xar8ZSg_hK",
        "outputId": "4e33a336-7f6e-4577-d25a-3fab4303ae6c"
      },
      "source": [
        "covid_df['State'].value_counts"
      ],
      "execution_count": 15,
      "outputs": [
        {
          "output_type": "execute_result",
          "data": {
            "text/plain": [
              "<bound method IndexOpsMixin.value_counts of 0           NaN\n",
              "1           NaN\n",
              "2           NaN\n",
              "3           NaN\n",
              "4           NaN\n",
              "         ...   \n",
              "316     Wyoming\n",
              "317    Xinjiang\n",
              "318       Yukon\n",
              "319      Yunnan\n",
              "320    Zhejiang\n",
              "Name: State, Length: 321, dtype: object>"
            ]
          },
          "metadata": {
            "tags": []
          },
          "execution_count": 15
        }
      ]
    },
    {
      "cell_type": "markdown",
      "metadata": {
        "id": "RWjsjEzWgEfx"
      },
      "source": [
        "**.info()**\n",
        "\n",
        "Provides basic information about the dataframe."
      ]
    },
    {
      "cell_type": "code",
      "metadata": {
        "colab": {
          "base_uri": "https://localhost:8080/"
        },
        "id": "_xW5RYIGg_AS",
        "outputId": "fa7db27d-9043-4b44-b9ec-63ebfd71df1f"
      },
      "source": [
        "covid_df.info()"
      ],
      "execution_count": 16,
      "outputs": [
        {
          "output_type": "stream",
          "text": [
            "<class 'pandas.core.frame.DataFrame'>\n",
            "RangeIndex: 321 entries, 0 to 320\n",
            "Data columns (total 6 columns):\n",
            " #   Column     Non-Null Count  Dtype \n",
            "---  ------     --------------  ----- \n",
            " 0   Date       321 non-null    object\n",
            " 1   State      140 non-null    object\n",
            " 2   Region     321 non-null    object\n",
            " 3   Confirmed  321 non-null    int64 \n",
            " 4   Deaths     321 non-null    int64 \n",
            " 5   Recovered  321 non-null    int64 \n",
            "dtypes: int64(3), object(3)\n",
            "memory usage: 15.2+ KB\n"
          ],
          "name": "stdout"
        }
      ]
    },
    {
      "cell_type": "markdown",
      "metadata": {
        "id": "SJNuJ3KagHvg"
      },
      "source": [
        "**.describe()**\n",
        "\n",
        "This method is used to view some basic statistical details like percentile, mean, std etc"
      ]
    },
    {
      "cell_type": "code",
      "metadata": {
        "colab": {
          "base_uri": "https://localhost:8080/",
          "height": 299
        },
        "id": "HfhjuFunhFfY",
        "outputId": "1ac80c5b-c40d-4965-e4fd-0e14ded74049"
      },
      "source": [
        "covid_df.describe()"
      ],
      "execution_count": 17,
      "outputs": [
        {
          "output_type": "execute_result",
          "data": {
            "text/html": [
              "<div>\n",
              "<style scoped>\n",
              "    .dataframe tbody tr th:only-of-type {\n",
              "        vertical-align: middle;\n",
              "    }\n",
              "\n",
              "    .dataframe tbody tr th {\n",
              "        vertical-align: top;\n",
              "    }\n",
              "\n",
              "    .dataframe thead th {\n",
              "        text-align: right;\n",
              "    }\n",
              "</style>\n",
              "<table border=\"1\" class=\"dataframe\">\n",
              "  <thead>\n",
              "    <tr style=\"text-align: right;\">\n",
              "      <th></th>\n",
              "      <th>Confirmed</th>\n",
              "      <th>Deaths</th>\n",
              "      <th>Recovered</th>\n",
              "    </tr>\n",
              "  </thead>\n",
              "  <tbody>\n",
              "    <tr>\n",
              "      <th>count</th>\n",
              "      <td>321.000000</td>\n",
              "      <td>321.000000</td>\n",
              "      <td>321.000000</td>\n",
              "    </tr>\n",
              "    <tr>\n",
              "      <th>mean</th>\n",
              "      <td>9949.800623</td>\n",
              "      <td>709.152648</td>\n",
              "      <td>3030.277259</td>\n",
              "    </tr>\n",
              "    <tr>\n",
              "      <th>std</th>\n",
              "      <td>31923.853086</td>\n",
              "      <td>3236.162817</td>\n",
              "      <td>14364.870365</td>\n",
              "    </tr>\n",
              "    <tr>\n",
              "      <th>min</th>\n",
              "      <td>0.000000</td>\n",
              "      <td>0.000000</td>\n",
              "      <td>0.000000</td>\n",
              "    </tr>\n",
              "    <tr>\n",
              "      <th>25%</th>\n",
              "      <td>104.000000</td>\n",
              "      <td>2.000000</td>\n",
              "      <td>2.000000</td>\n",
              "    </tr>\n",
              "    <tr>\n",
              "      <th>50%</th>\n",
              "      <td>653.000000</td>\n",
              "      <td>12.000000</td>\n",
              "      <td>73.000000</td>\n",
              "    </tr>\n",
              "    <tr>\n",
              "      <th>75%</th>\n",
              "      <td>4655.000000</td>\n",
              "      <td>144.000000</td>\n",
              "      <td>587.000000</td>\n",
              "    </tr>\n",
              "    <tr>\n",
              "      <th>max</th>\n",
              "      <td>299691.000000</td>\n",
              "      <td>27682.000000</td>\n",
              "      <td>132929.000000</td>\n",
              "    </tr>\n",
              "  </tbody>\n",
              "</table>\n",
              "</div>"
            ],
            "text/plain": [
              "           Confirmed        Deaths      Recovered\n",
              "count     321.000000    321.000000     321.000000\n",
              "mean     9949.800623    709.152648    3030.277259\n",
              "std     31923.853086   3236.162817   14364.870365\n",
              "min         0.000000      0.000000       0.000000\n",
              "25%       104.000000      2.000000       2.000000\n",
              "50%       653.000000     12.000000      73.000000\n",
              "75%      4655.000000    144.000000     587.000000\n",
              "max    299691.000000  27682.000000  132929.000000"
            ]
          },
          "metadata": {
            "tags": []
          },
          "execution_count": 17
        }
      ]
    },
    {
      "cell_type": "markdown",
      "metadata": {
        "id": "OvfLjAKWhhtB"
      },
      "source": [
        "# Data Cleaning"
      ]
    },
    {
      "cell_type": "code",
      "metadata": {
        "colab": {
          "base_uri": "https://localhost:8080/",
          "height": 422
        },
        "id": "Xi2tKfqvhH2K",
        "outputId": "457c13a4-10da-44b3-c657-2f5556b2e11b"
      },
      "source": [
        "covid_df.isnull()"
      ],
      "execution_count": 18,
      "outputs": [
        {
          "output_type": "execute_result",
          "data": {
            "text/html": [
              "<div>\n",
              "<style scoped>\n",
              "    .dataframe tbody tr th:only-of-type {\n",
              "        vertical-align: middle;\n",
              "    }\n",
              "\n",
              "    .dataframe tbody tr th {\n",
              "        vertical-align: top;\n",
              "    }\n",
              "\n",
              "    .dataframe thead th {\n",
              "        text-align: right;\n",
              "    }\n",
              "</style>\n",
              "<table border=\"1\" class=\"dataframe\">\n",
              "  <thead>\n",
              "    <tr style=\"text-align: right;\">\n",
              "      <th></th>\n",
              "      <th>Date</th>\n",
              "      <th>State</th>\n",
              "      <th>Region</th>\n",
              "      <th>Confirmed</th>\n",
              "      <th>Deaths</th>\n",
              "      <th>Recovered</th>\n",
              "    </tr>\n",
              "  </thead>\n",
              "  <tbody>\n",
              "    <tr>\n",
              "      <th>0</th>\n",
              "      <td>False</td>\n",
              "      <td>True</td>\n",
              "      <td>False</td>\n",
              "      <td>False</td>\n",
              "      <td>False</td>\n",
              "      <td>False</td>\n",
              "    </tr>\n",
              "    <tr>\n",
              "      <th>1</th>\n",
              "      <td>False</td>\n",
              "      <td>True</td>\n",
              "      <td>False</td>\n",
              "      <td>False</td>\n",
              "      <td>False</td>\n",
              "      <td>False</td>\n",
              "    </tr>\n",
              "    <tr>\n",
              "      <th>2</th>\n",
              "      <td>False</td>\n",
              "      <td>True</td>\n",
              "      <td>False</td>\n",
              "      <td>False</td>\n",
              "      <td>False</td>\n",
              "      <td>False</td>\n",
              "    </tr>\n",
              "    <tr>\n",
              "      <th>3</th>\n",
              "      <td>False</td>\n",
              "      <td>True</td>\n",
              "      <td>False</td>\n",
              "      <td>False</td>\n",
              "      <td>False</td>\n",
              "      <td>False</td>\n",
              "    </tr>\n",
              "    <tr>\n",
              "      <th>4</th>\n",
              "      <td>False</td>\n",
              "      <td>True</td>\n",
              "      <td>False</td>\n",
              "      <td>False</td>\n",
              "      <td>False</td>\n",
              "      <td>False</td>\n",
              "    </tr>\n",
              "    <tr>\n",
              "      <th>...</th>\n",
              "      <td>...</td>\n",
              "      <td>...</td>\n",
              "      <td>...</td>\n",
              "      <td>...</td>\n",
              "      <td>...</td>\n",
              "      <td>...</td>\n",
              "    </tr>\n",
              "    <tr>\n",
              "      <th>316</th>\n",
              "      <td>False</td>\n",
              "      <td>False</td>\n",
              "      <td>False</td>\n",
              "      <td>False</td>\n",
              "      <td>False</td>\n",
              "      <td>False</td>\n",
              "    </tr>\n",
              "    <tr>\n",
              "      <th>317</th>\n",
              "      <td>False</td>\n",
              "      <td>False</td>\n",
              "      <td>False</td>\n",
              "      <td>False</td>\n",
              "      <td>False</td>\n",
              "      <td>False</td>\n",
              "    </tr>\n",
              "    <tr>\n",
              "      <th>318</th>\n",
              "      <td>False</td>\n",
              "      <td>False</td>\n",
              "      <td>False</td>\n",
              "      <td>False</td>\n",
              "      <td>False</td>\n",
              "      <td>False</td>\n",
              "    </tr>\n",
              "    <tr>\n",
              "      <th>319</th>\n",
              "      <td>False</td>\n",
              "      <td>False</td>\n",
              "      <td>False</td>\n",
              "      <td>False</td>\n",
              "      <td>False</td>\n",
              "      <td>False</td>\n",
              "    </tr>\n",
              "    <tr>\n",
              "      <th>320</th>\n",
              "      <td>False</td>\n",
              "      <td>False</td>\n",
              "      <td>False</td>\n",
              "      <td>False</td>\n",
              "      <td>False</td>\n",
              "      <td>False</td>\n",
              "    </tr>\n",
              "  </tbody>\n",
              "</table>\n",
              "<p>321 rows × 6 columns</p>\n",
              "</div>"
            ],
            "text/plain": [
              "      Date  State  Region  Confirmed  Deaths  Recovered\n",
              "0    False   True   False      False   False      False\n",
              "1    False   True   False      False   False      False\n",
              "2    False   True   False      False   False      False\n",
              "3    False   True   False      False   False      False\n",
              "4    False   True   False      False   False      False\n",
              "..     ...    ...     ...        ...     ...        ...\n",
              "316  False  False   False      False   False      False\n",
              "317  False  False   False      False   False      False\n",
              "318  False  False   False      False   False      False\n",
              "319  False  False   False      False   False      False\n",
              "320  False  False   False      False   False      False\n",
              "\n",
              "[321 rows x 6 columns]"
            ]
          },
          "metadata": {
            "tags": []
          },
          "execution_count": 18
        }
      ]
    },
    {
      "cell_type": "code",
      "metadata": {
        "colab": {
          "base_uri": "https://localhost:8080/"
        },
        "id": "IaXsQ7UhhmxY",
        "outputId": "c0f2abb1-ebdf-4b7a-f25e-2f89afb9d9c9"
      },
      "source": [
        "covid_df.isnull().sum()"
      ],
      "execution_count": 19,
      "outputs": [
        {
          "output_type": "execute_result",
          "data": {
            "text/plain": [
              "Date           0\n",
              "State        181\n",
              "Region         0\n",
              "Confirmed      0\n",
              "Deaths         0\n",
              "Recovered      0\n",
              "dtype: int64"
            ]
          },
          "metadata": {
            "tags": []
          },
          "execution_count": 19
        }
      ]
    },
    {
      "cell_type": "code",
      "metadata": {
        "colab": {
          "base_uri": "https://localhost:8080/",
          "height": 287
        },
        "id": "4q9XHdhThqL7",
        "outputId": "6d18f2b2-6a65-4581-cdce-22e50346ca98"
      },
      "source": [
        "sns.heatmap(covid_df.isnull())"
      ],
      "execution_count": 21,
      "outputs": [
        {
          "output_type": "execute_result",
          "data": {
            "text/plain": [
              "<matplotlib.axes._subplots.AxesSubplot at 0x7fc42a79c3d0>"
            ]
          },
          "metadata": {
            "tags": []
          },
          "execution_count": 21
        },
        {
          "output_type": "display_data",
          "data": {
            "image/png": "[encoded data removed]",
            "text/plain": [
              "<Figure size 432x288 with 2 Axes>"
            ]
          },
          "metadata": {
            "tags": [],
            "needs_background": "light"
          }
        }
      ]
    },
    {
      "cell_type": "markdown",
      "metadata": {
        "id": "CMBKuQs-iToy"
      },
      "source": [
        "Show the number of confirmed, Death and Recovered cases in each reigon"
      ]
    },
    {
      "cell_type": "code",
      "metadata": {
        "colab": {
          "base_uri": "https://localhost:8080/",
          "height": 454
        },
        "id": "xaElBkm3iMGB",
        "outputId": "3c80ba2d-e29d-4744-dbbc-1b78296fa347"
      },
      "source": [
        "covid_df.groupby('Region').sum()"
      ],
      "execution_count": 51,
      "outputs": [
        {
          "output_type": "execute_result",
          "data": {
            "text/html": [
              "<div>\n",
              "<style scoped>\n",
              "    .dataframe tbody tr th:only-of-type {\n",
              "        vertical-align: middle;\n",
              "    }\n",
              "\n",
              "    .dataframe tbody tr th {\n",
              "        vertical-align: top;\n",
              "    }\n",
              "\n",
              "    .dataframe thead th {\n",
              "        text-align: right;\n",
              "    }\n",
              "</style>\n",
              "<table border=\"1\" class=\"dataframe\">\n",
              "  <thead>\n",
              "    <tr style=\"text-align: right;\">\n",
              "      <th></th>\n",
              "      <th>Confirmed</th>\n",
              "      <th>Deaths</th>\n",
              "      <th>Recovered</th>\n",
              "    </tr>\n",
              "    <tr>\n",
              "      <th>Region</th>\n",
              "      <th></th>\n",
              "      <th></th>\n",
              "      <th></th>\n",
              "    </tr>\n",
              "  </thead>\n",
              "  <tbody>\n",
              "    <tr>\n",
              "      <th>Afghanistan</th>\n",
              "      <td>1939</td>\n",
              "      <td>60</td>\n",
              "      <td>252</td>\n",
              "    </tr>\n",
              "    <tr>\n",
              "      <th>Albania</th>\n",
              "      <td>766</td>\n",
              "      <td>30</td>\n",
              "      <td>455</td>\n",
              "    </tr>\n",
              "    <tr>\n",
              "      <th>Algeria</th>\n",
              "      <td>3848</td>\n",
              "      <td>444</td>\n",
              "      <td>1702</td>\n",
              "    </tr>\n",
              "    <tr>\n",
              "      <th>Andorra</th>\n",
              "      <td>743</td>\n",
              "      <td>42</td>\n",
              "      <td>423</td>\n",
              "    </tr>\n",
              "    <tr>\n",
              "      <th>Angola</th>\n",
              "      <td>27</td>\n",
              "      <td>2</td>\n",
              "      <td>7</td>\n",
              "    </tr>\n",
              "    <tr>\n",
              "      <th>...</th>\n",
              "      <td>...</td>\n",
              "      <td>...</td>\n",
              "      <td>...</td>\n",
              "    </tr>\n",
              "    <tr>\n",
              "      <th>Venezuela</th>\n",
              "      <td>331</td>\n",
              "      <td>10</td>\n",
              "      <td>142</td>\n",
              "    </tr>\n",
              "    <tr>\n",
              "      <th>Vietnam</th>\n",
              "      <td>270</td>\n",
              "      <td>0</td>\n",
              "      <td>222</td>\n",
              "    </tr>\n",
              "    <tr>\n",
              "      <th>West Bank and Gaza</th>\n",
              "      <td>344</td>\n",
              "      <td>2</td>\n",
              "      <td>71</td>\n",
              "    </tr>\n",
              "    <tr>\n",
              "      <th>Zambia</th>\n",
              "      <td>97</td>\n",
              "      <td>3</td>\n",
              "      <td>54</td>\n",
              "    </tr>\n",
              "    <tr>\n",
              "      <th>Zimbabwe</th>\n",
              "      <td>32</td>\n",
              "      <td>4</td>\n",
              "      <td>5</td>\n",
              "    </tr>\n",
              "  </tbody>\n",
              "</table>\n",
              "<p>180 rows × 3 columns</p>\n",
              "</div>"
            ],
            "text/plain": [
              "                    Confirmed  Deaths  Recovered\n",
              "Region                                          \n",
              "Afghanistan              1939      60        252\n",
              "Albania                   766      30        455\n",
              "Algeria                  3848     444       1702\n",
              "Andorra                   743      42        423\n",
              "Angola                     27       2          7\n",
              "...                       ...     ...        ...\n",
              "Venezuela                 331      10        142\n",
              "Vietnam                   270       0        222\n",
              "West Bank and Gaza        344       2         71\n",
              "Zambia                     97       3         54\n",
              "Zimbabwe                   32       4          5\n",
              "\n",
              "[180 rows x 3 columns]"
            ]
          },
          "metadata": {
            "tags": []
          },
          "execution_count": 51
        }
      ]
    },
    {
      "cell_type": "code",
      "metadata": {
        "colab": {
          "base_uri": "https://localhost:8080/"
        },
        "id": "WTg5JUmLikGG",
        "outputId": "15bb32d6-799d-4318-9b46-13f75fab5111"
      },
      "source": [
        "covid_df.groupby('Region')['Confirmed'].sum()"
      ],
      "execution_count": 53,
      "outputs": [
        {
          "output_type": "execute_result",
          "data": {
            "text/plain": [
              "Region\n",
              "Afghanistan           1939\n",
              "Albania                766\n",
              "Algeria               3848\n",
              "Andorra                743\n",
              "Angola                  27\n",
              "                      ... \n",
              "Venezuela              331\n",
              "Vietnam                270\n",
              "West Bank and Gaza     344\n",
              "Zambia                  97\n",
              "Zimbabwe                32\n",
              "Name: Confirmed, Length: 180, dtype: int64"
            ]
          },
          "metadata": {
            "tags": []
          },
          "execution_count": 53
        }
      ]
    },
    {
      "cell_type": "code",
      "metadata": {
        "colab": {
          "base_uri": "https://localhost:8080/"
        },
        "id": "FCo5z4X6i9_2",
        "outputId": "db99ef5a-ceff-444f-c8da-5c8d9b3536d1"
      },
      "source": [
        "covid_df.groupby('Region')['Deaths'].sum()"
      ],
      "execution_count": 54,
      "outputs": [
        {
          "output_type": "execute_result",
          "data": {
            "text/plain": [
              "Region\n",
              "Afghanistan            60\n",
              "Albania                30\n",
              "Algeria               444\n",
              "Andorra                42\n",
              "Angola                  2\n",
              "                     ... \n",
              "Venezuela              10\n",
              "Vietnam                 0\n",
              "West Bank and Gaza      2\n",
              "Zambia                  3\n",
              "Zimbabwe                4\n",
              "Name: Deaths, Length: 180, dtype: int64"
            ]
          },
          "metadata": {
            "tags": []
          },
          "execution_count": 54
        }
      ]
    },
    {
      "cell_type": "code",
      "metadata": {
        "colab": {
          "base_uri": "https://localhost:8080/"
        },
        "id": "5W4lA-M3jUPe",
        "outputId": "3b574890-ddc6-4883-ba42-78933d5ce568"
      },
      "source": [
        "covid_df.groupby('Region')['Recovered'].sum()"
      ],
      "execution_count": 55,
      "outputs": [
        {
          "output_type": "execute_result",
          "data": {
            "text/plain": [
              "Region\n",
              "Afghanistan            252\n",
              "Albania                455\n",
              "Algeria               1702\n",
              "Andorra                423\n",
              "Angola                   7\n",
              "                      ... \n",
              "Venezuela              142\n",
              "Vietnam                222\n",
              "West Bank and Gaza      71\n",
              "Zambia                  54\n",
              "Zimbabwe                 5\n",
              "Name: Recovered, Length: 180, dtype: int64"
            ]
          },
          "metadata": {
            "tags": []
          },
          "execution_count": 55
        }
      ]
    },
    {
      "cell_type": "code",
      "metadata": {
        "colab": {
          "base_uri": "https://localhost:8080/",
          "height": 510
        },
        "id": "qNwyxjePjoNv",
        "outputId": "aa4befce-db4d-4bd3-c54a-6927c526a53b"
      },
      "source": [
        "covid_df.groupby('Region')['Confirmed','Deaths'].sum()"
      ],
      "execution_count": 56,
      "outputs": [
        {
          "output_type": "stream",
          "text": [
            "/usr/local/lib/python3.7/dist-packages/ipykernel_launcher.py:1: FutureWarning: Indexing with multiple keys (implicitly converted to a tuple of keys) will be deprecated, use a list instead.\n",
            "  \"\"\"Entry point for launching an IPython kernel.\n"
          ],
          "name": "stderr"
        },
        {
          "output_type": "execute_result",
          "data": {
            "text/html": [
              "<div>\n",
              "<style scoped>\n",
              "    .dataframe tbody tr th:only-of-type {\n",
              "        vertical-align: middle;\n",
              "    }\n",
              "\n",
              "    .dataframe tbody tr th {\n",
              "        vertical-align: top;\n",
              "    }\n",
              "\n",
              "    .dataframe thead th {\n",
              "        text-align: right;\n",
              "    }\n",
              "</style>\n",
              "<table border=\"1\" class=\"dataframe\">\n",
              "  <thead>\n",
              "    <tr style=\"text-align: right;\">\n",
              "      <th></th>\n",
              "      <th>Confirmed</th>\n",
              "      <th>Deaths</th>\n",
              "    </tr>\n",
              "    <tr>\n",
              "      <th>Region</th>\n",
              "      <th></th>\n",
              "      <th></th>\n",
              "    </tr>\n",
              "  </thead>\n",
              "  <tbody>\n",
              "    <tr>\n",
              "      <th>Afghanistan</th>\n",
              "      <td>1939</td>\n",
              "      <td>60</td>\n",
              "    </tr>\n",
              "    <tr>\n",
              "      <th>Albania</th>\n",
              "      <td>766</td>\n",
              "      <td>30</td>\n",
              "    </tr>\n",
              "    <tr>\n",
              "      <th>Algeria</th>\n",
              "      <td>3848</td>\n",
              "      <td>444</td>\n",
              "    </tr>\n",
              "    <tr>\n",
              "      <th>Andorra</th>\n",
              "      <td>743</td>\n",
              "      <td>42</td>\n",
              "    </tr>\n",
              "    <tr>\n",
              "      <th>Angola</th>\n",
              "      <td>27</td>\n",
              "      <td>2</td>\n",
              "    </tr>\n",
              "    <tr>\n",
              "      <th>...</th>\n",
              "      <td>...</td>\n",
              "      <td>...</td>\n",
              "    </tr>\n",
              "    <tr>\n",
              "      <th>Venezuela</th>\n",
              "      <td>331</td>\n",
              "      <td>10</td>\n",
              "    </tr>\n",
              "    <tr>\n",
              "      <th>Vietnam</th>\n",
              "      <td>270</td>\n",
              "      <td>0</td>\n",
              "    </tr>\n",
              "    <tr>\n",
              "      <th>West Bank and Gaza</th>\n",
              "      <td>344</td>\n",
              "      <td>2</td>\n",
              "    </tr>\n",
              "    <tr>\n",
              "      <th>Zambia</th>\n",
              "      <td>97</td>\n",
              "      <td>3</td>\n",
              "    </tr>\n",
              "    <tr>\n",
              "      <th>Zimbabwe</th>\n",
              "      <td>32</td>\n",
              "      <td>4</td>\n",
              "    </tr>\n",
              "  </tbody>\n",
              "</table>\n",
              "<p>180 rows × 2 columns</p>\n",
              "</div>"
            ],
            "text/plain": [
              "                    Confirmed  Deaths\n",
              "Region                               \n",
              "Afghanistan              1939      60\n",
              "Albania                   766      30\n",
              "Algeria                  3848     444\n",
              "Andorra                   743      42\n",
              "Angola                     27       2\n",
              "...                       ...     ...\n",
              "Venezuela                 331      10\n",
              "Vietnam                   270       0\n",
              "West Bank and Gaza        344       2\n",
              "Zambia                     97       3\n",
              "Zimbabwe                   32       4\n",
              "\n",
              "[180 rows x 2 columns]"
            ]
          },
          "metadata": {
            "tags": []
          },
          "execution_count": 56
        }
      ]
    },
    {
      "cell_type": "markdown",
      "metadata": {
        "id": "hiEe-8ixkV4P"
      },
      "source": [
        "Remove all the cases where Confirmed Cases is less than 10"
      ]
    },
    {
      "cell_type": "code",
      "metadata": {
        "id": "8NIttlh0kOao"
      },
      "source": [
        "covid_df = covid_df[~(covid_df['Confirmed']<10)]"
      ],
      "execution_count": 45,
      "outputs": []
    },
    {
      "cell_type": "code",
      "metadata": {
        "colab": {
          "base_uri": "https://localhost:8080/",
          "height": 1000
        },
        "id": "LRzWGzFGkoSI",
        "outputId": "0193f173-8cbc-4859-c7a2-35ce6fcb1152"
      },
      "source": [
        "covid_df.head(50)"
      ],
      "execution_count": 46,
      "outputs": [
        {
          "output_type": "execute_result",
          "data": {
            "text/html": [
              "<div>\n",
              "<style scoped>\n",
              "    .dataframe tbody tr th:only-of-type {\n",
              "        vertical-align: middle;\n",
              "    }\n",
              "\n",
              "    .dataframe tbody tr th {\n",
              "        vertical-align: top;\n",
              "    }\n",
              "\n",
              "    .dataframe thead th {\n",
              "        text-align: right;\n",
              "    }\n",
              "</style>\n",
              "<table border=\"1\" class=\"dataframe\">\n",
              "  <thead>\n",
              "    <tr style=\"text-align: right;\">\n",
              "      <th></th>\n",
              "      <th>Date</th>\n",
              "      <th>State</th>\n",
              "      <th>Region</th>\n",
              "      <th>Confirmed</th>\n",
              "      <th>Deaths</th>\n",
              "      <th>Recovered</th>\n",
              "    </tr>\n",
              "  </thead>\n",
              "  <tbody>\n",
              "    <tr>\n",
              "      <th>0</th>\n",
              "      <td>4/29/2020</td>\n",
              "      <td>NaN</td>\n",
              "      <td>Afghanistan</td>\n",
              "      <td>1939</td>\n",
              "      <td>60</td>\n",
              "      <td>252</td>\n",
              "    </tr>\n",
              "    <tr>\n",
              "      <th>1</th>\n",
              "      <td>4/29/2020</td>\n",
              "      <td>NaN</td>\n",
              "      <td>Albania</td>\n",
              "      <td>766</td>\n",
              "      <td>30</td>\n",
              "      <td>455</td>\n",
              "    </tr>\n",
              "    <tr>\n",
              "      <th>2</th>\n",
              "      <td>4/29/2020</td>\n",
              "      <td>NaN</td>\n",
              "      <td>Algeria</td>\n",
              "      <td>3848</td>\n",
              "      <td>444</td>\n",
              "      <td>1702</td>\n",
              "    </tr>\n",
              "    <tr>\n",
              "      <th>3</th>\n",
              "      <td>4/29/2020</td>\n",
              "      <td>NaN</td>\n",
              "      <td>Andorra</td>\n",
              "      <td>743</td>\n",
              "      <td>42</td>\n",
              "      <td>423</td>\n",
              "    </tr>\n",
              "    <tr>\n",
              "      <th>4</th>\n",
              "      <td>4/29/2020</td>\n",
              "      <td>NaN</td>\n",
              "      <td>Angola</td>\n",
              "      <td>27</td>\n",
              "      <td>2</td>\n",
              "      <td>7</td>\n",
              "    </tr>\n",
              "    <tr>\n",
              "      <th>5</th>\n",
              "      <td>4/29/2020</td>\n",
              "      <td>NaN</td>\n",
              "      <td>Antigua and Barbuda</td>\n",
              "      <td>24</td>\n",
              "      <td>3</td>\n",
              "      <td>11</td>\n",
              "    </tr>\n",
              "    <tr>\n",
              "      <th>6</th>\n",
              "      <td>4/29/2020</td>\n",
              "      <td>NaN</td>\n",
              "      <td>Argentina</td>\n",
              "      <td>4285</td>\n",
              "      <td>214</td>\n",
              "      <td>1192</td>\n",
              "    </tr>\n",
              "    <tr>\n",
              "      <th>7</th>\n",
              "      <td>4/29/2020</td>\n",
              "      <td>NaN</td>\n",
              "      <td>Armenia</td>\n",
              "      <td>1932</td>\n",
              "      <td>30</td>\n",
              "      <td>900</td>\n",
              "    </tr>\n",
              "    <tr>\n",
              "      <th>8</th>\n",
              "      <td>4/29/2020</td>\n",
              "      <td>NaN</td>\n",
              "      <td>Austria</td>\n",
              "      <td>15402</td>\n",
              "      <td>580</td>\n",
              "      <td>12779</td>\n",
              "    </tr>\n",
              "    <tr>\n",
              "      <th>9</th>\n",
              "      <td>4/29/2020</td>\n",
              "      <td>NaN</td>\n",
              "      <td>Azerbaijan</td>\n",
              "      <td>1766</td>\n",
              "      <td>23</td>\n",
              "      <td>1267</td>\n",
              "    </tr>\n",
              "    <tr>\n",
              "      <th>10</th>\n",
              "      <td>4/29/2020</td>\n",
              "      <td>NaN</td>\n",
              "      <td>Bahamas</td>\n",
              "      <td>80</td>\n",
              "      <td>11</td>\n",
              "      <td>23</td>\n",
              "    </tr>\n",
              "    <tr>\n",
              "      <th>11</th>\n",
              "      <td>4/29/2020</td>\n",
              "      <td>NaN</td>\n",
              "      <td>Bahrain</td>\n",
              "      <td>2921</td>\n",
              "      <td>8</td>\n",
              "      <td>1455</td>\n",
              "    </tr>\n",
              "    <tr>\n",
              "      <th>12</th>\n",
              "      <td>4/29/2020</td>\n",
              "      <td>NaN</td>\n",
              "      <td>Bangladesh</td>\n",
              "      <td>7103</td>\n",
              "      <td>163</td>\n",
              "      <td>150</td>\n",
              "    </tr>\n",
              "    <tr>\n",
              "      <th>13</th>\n",
              "      <td>4/29/2020</td>\n",
              "      <td>NaN</td>\n",
              "      <td>Barbados</td>\n",
              "      <td>80</td>\n",
              "      <td>7</td>\n",
              "      <td>39</td>\n",
              "    </tr>\n",
              "    <tr>\n",
              "      <th>14</th>\n",
              "      <td>4/29/2020</td>\n",
              "      <td>NaN</td>\n",
              "      <td>Belarus</td>\n",
              "      <td>13181</td>\n",
              "      <td>84</td>\n",
              "      <td>2072</td>\n",
              "    </tr>\n",
              "    <tr>\n",
              "      <th>15</th>\n",
              "      <td>4/29/2020</td>\n",
              "      <td>NaN</td>\n",
              "      <td>Belgium</td>\n",
              "      <td>47859</td>\n",
              "      <td>7501</td>\n",
              "      <td>11283</td>\n",
              "    </tr>\n",
              "    <tr>\n",
              "      <th>16</th>\n",
              "      <td>4/29/2020</td>\n",
              "      <td>NaN</td>\n",
              "      <td>Belize</td>\n",
              "      <td>18</td>\n",
              "      <td>2</td>\n",
              "      <td>9</td>\n",
              "    </tr>\n",
              "    <tr>\n",
              "      <th>17</th>\n",
              "      <td>4/29/2020</td>\n",
              "      <td>NaN</td>\n",
              "      <td>Benin</td>\n",
              "      <td>64</td>\n",
              "      <td>1</td>\n",
              "      <td>33</td>\n",
              "    </tr>\n",
              "    <tr>\n",
              "      <th>19</th>\n",
              "      <td>4/29/2020</td>\n",
              "      <td>NaN</td>\n",
              "      <td>Bolivia</td>\n",
              "      <td>1110</td>\n",
              "      <td>59</td>\n",
              "      <td>117</td>\n",
              "    </tr>\n",
              "    <tr>\n",
              "      <th>20</th>\n",
              "      <td>4/29/2020</td>\n",
              "      <td>NaN</td>\n",
              "      <td>Bosnia and Herzegovina</td>\n",
              "      <td>1677</td>\n",
              "      <td>65</td>\n",
              "      <td>710</td>\n",
              "    </tr>\n",
              "    <tr>\n",
              "      <th>21</th>\n",
              "      <td>4/29/2020</td>\n",
              "      <td>NaN</td>\n",
              "      <td>Botswana</td>\n",
              "      <td>23</td>\n",
              "      <td>1</td>\n",
              "      <td>5</td>\n",
              "    </tr>\n",
              "    <tr>\n",
              "      <th>22</th>\n",
              "      <td>4/29/2020</td>\n",
              "      <td>NaN</td>\n",
              "      <td>Brazil</td>\n",
              "      <td>79685</td>\n",
              "      <td>5513</td>\n",
              "      <td>34132</td>\n",
              "    </tr>\n",
              "    <tr>\n",
              "      <th>23</th>\n",
              "      <td>4/29/2020</td>\n",
              "      <td>NaN</td>\n",
              "      <td>Brunei</td>\n",
              "      <td>138</td>\n",
              "      <td>1</td>\n",
              "      <td>124</td>\n",
              "    </tr>\n",
              "    <tr>\n",
              "      <th>24</th>\n",
              "      <td>4/29/2020</td>\n",
              "      <td>NaN</td>\n",
              "      <td>Bulgaria</td>\n",
              "      <td>1447</td>\n",
              "      <td>64</td>\n",
              "      <td>243</td>\n",
              "    </tr>\n",
              "    <tr>\n",
              "      <th>25</th>\n",
              "      <td>4/29/2020</td>\n",
              "      <td>NaN</td>\n",
              "      <td>Burkina Faso</td>\n",
              "      <td>641</td>\n",
              "      <td>43</td>\n",
              "      <td>498</td>\n",
              "    </tr>\n",
              "    <tr>\n",
              "      <th>26</th>\n",
              "      <td>4/29/2020</td>\n",
              "      <td>NaN</td>\n",
              "      <td>Burma</td>\n",
              "      <td>150</td>\n",
              "      <td>6</td>\n",
              "      <td>27</td>\n",
              "    </tr>\n",
              "    <tr>\n",
              "      <th>27</th>\n",
              "      <td>4/29/2020</td>\n",
              "      <td>NaN</td>\n",
              "      <td>Burundi</td>\n",
              "      <td>11</td>\n",
              "      <td>1</td>\n",
              "      <td>4</td>\n",
              "    </tr>\n",
              "    <tr>\n",
              "      <th>28</th>\n",
              "      <td>4/29/2020</td>\n",
              "      <td>NaN</td>\n",
              "      <td>Cabo Verde</td>\n",
              "      <td>114</td>\n",
              "      <td>1</td>\n",
              "      <td>2</td>\n",
              "    </tr>\n",
              "    <tr>\n",
              "      <th>29</th>\n",
              "      <td>4/29/2020</td>\n",
              "      <td>NaN</td>\n",
              "      <td>Cambodia</td>\n",
              "      <td>122</td>\n",
              "      <td>0</td>\n",
              "      <td>119</td>\n",
              "    </tr>\n",
              "    <tr>\n",
              "      <th>30</th>\n",
              "      <td>4/29/2020</td>\n",
              "      <td>NaN</td>\n",
              "      <td>Cameroon</td>\n",
              "      <td>1832</td>\n",
              "      <td>61</td>\n",
              "      <td>934</td>\n",
              "    </tr>\n",
              "    <tr>\n",
              "      <th>31</th>\n",
              "      <td>4/29/2020</td>\n",
              "      <td>NaN</td>\n",
              "      <td>Central African Republic</td>\n",
              "      <td>50</td>\n",
              "      <td>0</td>\n",
              "      <td>10</td>\n",
              "    </tr>\n",
              "    <tr>\n",
              "      <th>32</th>\n",
              "      <td>4/29/2020</td>\n",
              "      <td>NaN</td>\n",
              "      <td>Chad</td>\n",
              "      <td>52</td>\n",
              "      <td>2</td>\n",
              "      <td>19</td>\n",
              "    </tr>\n",
              "    <tr>\n",
              "      <th>33</th>\n",
              "      <td>4/29/2020</td>\n",
              "      <td>NaN</td>\n",
              "      <td>Chile</td>\n",
              "      <td>14885</td>\n",
              "      <td>216</td>\n",
              "      <td>8057</td>\n",
              "    </tr>\n",
              "    <tr>\n",
              "      <th>34</th>\n",
              "      <td>4/29/2020</td>\n",
              "      <td>NaN</td>\n",
              "      <td>Colombia</td>\n",
              "      <td>6207</td>\n",
              "      <td>278</td>\n",
              "      <td>1411</td>\n",
              "    </tr>\n",
              "    <tr>\n",
              "      <th>35</th>\n",
              "      <td>4/29/2020</td>\n",
              "      <td>NaN</td>\n",
              "      <td>Congo (Brazzaville)</td>\n",
              "      <td>207</td>\n",
              "      <td>8</td>\n",
              "      <td>19</td>\n",
              "    </tr>\n",
              "    <tr>\n",
              "      <th>36</th>\n",
              "      <td>4/29/2020</td>\n",
              "      <td>NaN</td>\n",
              "      <td>Congo (Kinshasa)</td>\n",
              "      <td>491</td>\n",
              "      <td>30</td>\n",
              "      <td>59</td>\n",
              "    </tr>\n",
              "    <tr>\n",
              "      <th>37</th>\n",
              "      <td>4/29/2020</td>\n",
              "      <td>NaN</td>\n",
              "      <td>Costa Rica</td>\n",
              "      <td>713</td>\n",
              "      <td>6</td>\n",
              "      <td>323</td>\n",
              "    </tr>\n",
              "    <tr>\n",
              "      <th>38</th>\n",
              "      <td>4/29/2020</td>\n",
              "      <td>NaN</td>\n",
              "      <td>Croatia</td>\n",
              "      <td>2062</td>\n",
              "      <td>67</td>\n",
              "      <td>1288</td>\n",
              "    </tr>\n",
              "    <tr>\n",
              "      <th>39</th>\n",
              "      <td>4/29/2020</td>\n",
              "      <td>NaN</td>\n",
              "      <td>Cuba</td>\n",
              "      <td>1467</td>\n",
              "      <td>58</td>\n",
              "      <td>617</td>\n",
              "    </tr>\n",
              "    <tr>\n",
              "      <th>40</th>\n",
              "      <td>4/29/2020</td>\n",
              "      <td>NaN</td>\n",
              "      <td>Cyprus</td>\n",
              "      <td>843</td>\n",
              "      <td>15</td>\n",
              "      <td>148</td>\n",
              "    </tr>\n",
              "    <tr>\n",
              "      <th>41</th>\n",
              "      <td>4/29/2020</td>\n",
              "      <td>NaN</td>\n",
              "      <td>Czech Republic</td>\n",
              "      <td>7579</td>\n",
              "      <td>227</td>\n",
              "      <td>3108</td>\n",
              "    </tr>\n",
              "    <tr>\n",
              "      <th>42</th>\n",
              "      <td>4/29/2020</td>\n",
              "      <td>NaN</td>\n",
              "      <td>Denmark</td>\n",
              "      <td>9008</td>\n",
              "      <td>443</td>\n",
              "      <td>6366</td>\n",
              "    </tr>\n",
              "    <tr>\n",
              "      <th>43</th>\n",
              "      <td>4/29/2020</td>\n",
              "      <td>NaN</td>\n",
              "      <td>Diamond Princess</td>\n",
              "      <td>712</td>\n",
              "      <td>13</td>\n",
              "      <td>645</td>\n",
              "    </tr>\n",
              "    <tr>\n",
              "      <th>44</th>\n",
              "      <td>4/29/2020</td>\n",
              "      <td>NaN</td>\n",
              "      <td>Djibouti</td>\n",
              "      <td>1077</td>\n",
              "      <td>2</td>\n",
              "      <td>599</td>\n",
              "    </tr>\n",
              "    <tr>\n",
              "      <th>45</th>\n",
              "      <td>4/29/2020</td>\n",
              "      <td>NaN</td>\n",
              "      <td>Dominica</td>\n",
              "      <td>16</td>\n",
              "      <td>0</td>\n",
              "      <td>13</td>\n",
              "    </tr>\n",
              "    <tr>\n",
              "      <th>46</th>\n",
              "      <td>4/29/2020</td>\n",
              "      <td>NaN</td>\n",
              "      <td>Dominican Republic</td>\n",
              "      <td>6652</td>\n",
              "      <td>293</td>\n",
              "      <td>1228</td>\n",
              "    </tr>\n",
              "    <tr>\n",
              "      <th>47</th>\n",
              "      <td>4/29/2020</td>\n",
              "      <td>NaN</td>\n",
              "      <td>Ecuador</td>\n",
              "      <td>24675</td>\n",
              "      <td>883</td>\n",
              "      <td>1557</td>\n",
              "    </tr>\n",
              "    <tr>\n",
              "      <th>48</th>\n",
              "      <td>4/29/2020</td>\n",
              "      <td>NaN</td>\n",
              "      <td>Egypt</td>\n",
              "      <td>5268</td>\n",
              "      <td>380</td>\n",
              "      <td>1335</td>\n",
              "    </tr>\n",
              "    <tr>\n",
              "      <th>49</th>\n",
              "      <td>4/29/2020</td>\n",
              "      <td>NaN</td>\n",
              "      <td>El Salvador</td>\n",
              "      <td>377</td>\n",
              "      <td>9</td>\n",
              "      <td>106</td>\n",
              "    </tr>\n",
              "    <tr>\n",
              "      <th>50</th>\n",
              "      <td>4/29/2020</td>\n",
              "      <td>NaN</td>\n",
              "      <td>Equatorial Guinea</td>\n",
              "      <td>315</td>\n",
              "      <td>1</td>\n",
              "      <td>9</td>\n",
              "    </tr>\n",
              "  </tbody>\n",
              "</table>\n",
              "</div>"
            ],
            "text/plain": [
              "         Date State                    Region  Confirmed  Deaths  Recovered\n",
              "0   4/29/2020   NaN               Afghanistan       1939      60        252\n",
              "1   4/29/2020   NaN                   Albania        766      30        455\n",
              "2   4/29/2020   NaN                   Algeria       3848     444       1702\n",
              "3   4/29/2020   NaN                   Andorra        743      42        423\n",
              "4   4/29/2020   NaN                    Angola         27       2          7\n",
              "5   4/29/2020   NaN       Antigua and Barbuda         24       3         11\n",
              "6   4/29/2020   NaN                 Argentina       4285     214       1192\n",
              "7   4/29/2020   NaN                   Armenia       1932      30        900\n",
              "8   4/29/2020   NaN                   Austria      15402     580      12779\n",
              "9   4/29/2020   NaN                Azerbaijan       1766      23       1267\n",
              "10  4/29/2020   NaN                   Bahamas         80      11         23\n",
              "11  4/29/2020   NaN                   Bahrain       2921       8       1455\n",
              "12  4/29/2020   NaN                Bangladesh       7103     163        150\n",
              "13  4/29/2020   NaN                  Barbados         80       7         39\n",
              "14  4/29/2020   NaN                   Belarus      13181      84       2072\n",
              "15  4/29/2020   NaN                   Belgium      47859    7501      11283\n",
              "16  4/29/2020   NaN                    Belize         18       2          9\n",
              "17  4/29/2020   NaN                     Benin         64       1         33\n",
              "19  4/29/2020   NaN                   Bolivia       1110      59        117\n",
              "20  4/29/2020   NaN    Bosnia and Herzegovina       1677      65        710\n",
              "21  4/29/2020   NaN                  Botswana         23       1          5\n",
              "22  4/29/2020   NaN                    Brazil      79685    5513      34132\n",
              "23  4/29/2020   NaN                    Brunei        138       1        124\n",
              "24  4/29/2020   NaN                  Bulgaria       1447      64        243\n",
              "25  4/29/2020   NaN              Burkina Faso        641      43        498\n",
              "26  4/29/2020   NaN                     Burma        150       6         27\n",
              "27  4/29/2020   NaN                   Burundi         11       1          4\n",
              "28  4/29/2020   NaN                Cabo Verde        114       1          2\n",
              "29  4/29/2020   NaN                  Cambodia        122       0        119\n",
              "30  4/29/2020   NaN                  Cameroon       1832      61        934\n",
              "31  4/29/2020   NaN  Central African Republic         50       0         10\n",
              "32  4/29/2020   NaN                      Chad         52       2         19\n",
              "33  4/29/2020   NaN                     Chile      14885     216       8057\n",
              "34  4/29/2020   NaN                  Colombia       6207     278       1411\n",
              "35  4/29/2020   NaN       Congo (Brazzaville)        207       8         19\n",
              "36  4/29/2020   NaN          Congo (Kinshasa)        491      30         59\n",
              "37  4/29/2020   NaN                Costa Rica        713       6        323\n",
              "38  4/29/2020   NaN                   Croatia       2062      67       1288\n",
              "39  4/29/2020   NaN                      Cuba       1467      58        617\n",
              "40  4/29/2020   NaN                    Cyprus        843      15        148\n",
              "41  4/29/2020   NaN            Czech Republic       7579     227       3108\n",
              "42  4/29/2020   NaN                   Denmark       9008     443       6366\n",
              "43  4/29/2020   NaN          Diamond Princess        712      13        645\n",
              "44  4/29/2020   NaN                  Djibouti       1077       2        599\n",
              "45  4/29/2020   NaN                  Dominica         16       0         13\n",
              "46  4/29/2020   NaN        Dominican Republic       6652     293       1228\n",
              "47  4/29/2020   NaN                   Ecuador      24675     883       1557\n",
              "48  4/29/2020   NaN                     Egypt       5268     380       1335\n",
              "49  4/29/2020   NaN               El Salvador        377       9        106\n",
              "50  4/29/2020   NaN         Equatorial Guinea        315       1          9"
            ]
          },
          "metadata": {
            "tags": []
          },
          "execution_count": 46
        }
      ]
    },
    {
      "cell_type": "markdown",
      "metadata": {
        "id": "zhQoqKNxmErR"
      },
      "source": [
        "In which reigon, maximum number of Confirmed cases were recorded?\n",
        "\n",
        "\n"
      ]
    },
    {
      "cell_type": "code",
      "metadata": {
        "colab": {
          "base_uri": "https://localhost:8080/",
          "height": 81
        },
        "id": "XoX3v3zglmue",
        "outputId": "41035c0a-090e-47f5-c053-ebc726801a72"
      },
      "source": [
        "covid_df[covid_df['Confirmed'] == covid_df['Confirmed'].max()]"
      ],
      "execution_count": 48,
      "outputs": [
        {
          "output_type": "execute_result",
          "data": {
            "text/html": [
              "<div>\n",
              "<style scoped>\n",
              "    .dataframe tbody tr th:only-of-type {\n",
              "        vertical-align: middle;\n",
              "    }\n",
              "\n",
              "    .dataframe tbody tr th {\n",
              "        vertical-align: top;\n",
              "    }\n",
              "\n",
              "    .dataframe thead th {\n",
              "        text-align: right;\n",
              "    }\n",
              "</style>\n",
              "<table border=\"1\" class=\"dataframe\">\n",
              "  <thead>\n",
              "    <tr style=\"text-align: right;\">\n",
              "      <th></th>\n",
              "      <th>Date</th>\n",
              "      <th>State</th>\n",
              "      <th>Region</th>\n",
              "      <th>Confirmed</th>\n",
              "      <th>Deaths</th>\n",
              "      <th>Recovered</th>\n",
              "    </tr>\n",
              "  </thead>\n",
              "  <tbody>\n",
              "    <tr>\n",
              "      <th>265</th>\n",
              "      <td>4/29/2020</td>\n",
              "      <td>New York</td>\n",
              "      <td>US</td>\n",
              "      <td>299691</td>\n",
              "      <td>23477</td>\n",
              "      <td>0</td>\n",
              "    </tr>\n",
              "  </tbody>\n",
              "</table>\n",
              "</div>"
            ],
            "text/plain": [
              "          Date     State Region  Confirmed  Deaths  Recovered\n",
              "265  4/29/2020  New York     US     299691   23477          0"
            ]
          },
          "metadata": {
            "tags": []
          },
          "execution_count": 48
        }
      ]
    },
    {
      "cell_type": "code",
      "metadata": {
        "colab": {
          "base_uri": "https://localhost:8080/"
        },
        "id": "SdxJrwBMmfAj",
        "outputId": "4a3075f3-2181-4150-e822-5c3ac4b76d46"
      },
      "source": [
        "covid_df[covid_df['Confirmed'] == covid_df['Confirmed'].max()]['Region']"
      ],
      "execution_count": 50,
      "outputs": [
        {
          "output_type": "execute_result",
          "data": {
            "text/plain": [
              "265    US\n",
              "Name: Region, dtype: object"
            ]
          },
          "metadata": {
            "tags": []
          },
          "execution_count": 50
        }
      ]
    },
    {
      "cell_type": "markdown",
      "metadata": {
        "id": "i0Me8KJjnJtu"
      },
      "source": [
        "In which reigon, maximum number of Deaths were recorded?\n",
        "\n",
        "\n"
      ]
    },
    {
      "cell_type": "code",
      "metadata": {
        "colab": {
          "base_uri": "https://localhost:8080/",
          "height": 1000
        },
        "id": "kOS9kyj1mm_t",
        "outputId": "a1c98391-067a-4daf-e94f-bd78488641a5"
      },
      "source": [
        "covid_df[covid_df['Deaths'] == covid_df['Deaths'].min()]"
      ],
      "execution_count": 59,
      "outputs": [
        {
          "output_type": "execute_result",
          "data": {
            "text/html": [
              "<div>\n",
              "<style scoped>\n",
              "    .dataframe tbody tr th:only-of-type {\n",
              "        vertical-align: middle;\n",
              "    }\n",
              "\n",
              "    .dataframe tbody tr th {\n",
              "        vertical-align: top;\n",
              "    }\n",
              "\n",
              "    .dataframe thead th {\n",
              "        text-align: right;\n",
              "    }\n",
              "</style>\n",
              "<table border=\"1\" class=\"dataframe\">\n",
              "  <thead>\n",
              "    <tr style=\"text-align: right;\">\n",
              "      <th></th>\n",
              "      <th>Date</th>\n",
              "      <th>State</th>\n",
              "      <th>Region</th>\n",
              "      <th>Confirmed</th>\n",
              "      <th>Deaths</th>\n",
              "      <th>Recovered</th>\n",
              "    </tr>\n",
              "  </thead>\n",
              "  <tbody>\n",
              "    <tr>\n",
              "      <th>29</th>\n",
              "      <td>4/29/2020</td>\n",
              "      <td>NaN</td>\n",
              "      <td>Cambodia</td>\n",
              "      <td>122</td>\n",
              "      <td>0</td>\n",
              "      <td>119</td>\n",
              "    </tr>\n",
              "    <tr>\n",
              "      <th>31</th>\n",
              "      <td>4/29/2020</td>\n",
              "      <td>NaN</td>\n",
              "      <td>Central African Republic</td>\n",
              "      <td>50</td>\n",
              "      <td>0</td>\n",
              "      <td>10</td>\n",
              "    </tr>\n",
              "    <tr>\n",
              "      <th>45</th>\n",
              "      <td>4/29/2020</td>\n",
              "      <td>NaN</td>\n",
              "      <td>Dominica</td>\n",
              "      <td>16</td>\n",
              "      <td>0</td>\n",
              "      <td>13</td>\n",
              "    </tr>\n",
              "    <tr>\n",
              "      <th>51</th>\n",
              "      <td>4/29/2020</td>\n",
              "      <td>NaN</td>\n",
              "      <td>Eritrea</td>\n",
              "      <td>39</td>\n",
              "      <td>0</td>\n",
              "      <td>19</td>\n",
              "    </tr>\n",
              "    <tr>\n",
              "      <th>55</th>\n",
              "      <td>4/29/2020</td>\n",
              "      <td>NaN</td>\n",
              "      <td>Fiji</td>\n",
              "      <td>18</td>\n",
              "      <td>0</td>\n",
              "      <td>12</td>\n",
              "    </tr>\n",
              "    <tr>\n",
              "      <th>64</th>\n",
              "      <td>4/29/2020</td>\n",
              "      <td>NaN</td>\n",
              "      <td>Grenada</td>\n",
              "      <td>20</td>\n",
              "      <td>0</td>\n",
              "      <td>13</td>\n",
              "    </tr>\n",
              "    <tr>\n",
              "      <th>70</th>\n",
              "      <td>4/29/2020</td>\n",
              "      <td>NaN</td>\n",
              "      <td>Holy See</td>\n",
              "      <td>10</td>\n",
              "      <td>0</td>\n",
              "      <td>2</td>\n",
              "    </tr>\n",
              "    <tr>\n",
              "      <th>90</th>\n",
              "      <td>4/29/2020</td>\n",
              "      <td>NaN</td>\n",
              "      <td>Laos</td>\n",
              "      <td>19</td>\n",
              "      <td>0</td>\n",
              "      <td>7</td>\n",
              "    </tr>\n",
              "    <tr>\n",
              "      <th>99</th>\n",
              "      <td>4/29/2020</td>\n",
              "      <td>NaN</td>\n",
              "      <td>Madagascar</td>\n",
              "      <td>128</td>\n",
              "      <td>0</td>\n",
              "      <td>90</td>\n",
              "    </tr>\n",
              "    <tr>\n",
              "      <th>110</th>\n",
              "      <td>4/29/2020</td>\n",
              "      <td>NaN</td>\n",
              "      <td>Mongolia</td>\n",
              "      <td>38</td>\n",
              "      <td>0</td>\n",
              "      <td>10</td>\n",
              "    </tr>\n",
              "    <tr>\n",
              "      <th>113</th>\n",
              "      <td>4/29/2020</td>\n",
              "      <td>NaN</td>\n",
              "      <td>Mozambique</td>\n",
              "      <td>76</td>\n",
              "      <td>0</td>\n",
              "      <td>12</td>\n",
              "    </tr>\n",
              "    <tr>\n",
              "      <th>114</th>\n",
              "      <td>4/29/2020</td>\n",
              "      <td>NaN</td>\n",
              "      <td>Namibia</td>\n",
              "      <td>16</td>\n",
              "      <td>0</td>\n",
              "      <td>8</td>\n",
              "    </tr>\n",
              "    <tr>\n",
              "      <th>115</th>\n",
              "      <td>4/29/2020</td>\n",
              "      <td>NaN</td>\n",
              "      <td>Nepal</td>\n",
              "      <td>57</td>\n",
              "      <td>0</td>\n",
              "      <td>16</td>\n",
              "    </tr>\n",
              "    <tr>\n",
              "      <th>135</th>\n",
              "      <td>4/29/2020</td>\n",
              "      <td>NaN</td>\n",
              "      <td>Rwanda</td>\n",
              "      <td>225</td>\n",
              "      <td>0</td>\n",
              "      <td>98</td>\n",
              "    </tr>\n",
              "    <tr>\n",
              "      <th>136</th>\n",
              "      <td>4/29/2020</td>\n",
              "      <td>NaN</td>\n",
              "      <td>Saint Kitts and Nevis</td>\n",
              "      <td>15</td>\n",
              "      <td>0</td>\n",
              "      <td>4</td>\n",
              "    </tr>\n",
              "    <tr>\n",
              "      <th>137</th>\n",
              "      <td>4/29/2020</td>\n",
              "      <td>NaN</td>\n",
              "      <td>Saint Lucia</td>\n",
              "      <td>17</td>\n",
              "      <td>0</td>\n",
              "      <td>15</td>\n",
              "    </tr>\n",
              "    <tr>\n",
              "      <th>138</th>\n",
              "      <td>4/29/2020</td>\n",
              "      <td>NaN</td>\n",
              "      <td>Saint Vincent and the Grenadines</td>\n",
              "      <td>16</td>\n",
              "      <td>0</td>\n",
              "      <td>8</td>\n",
              "    </tr>\n",
              "    <tr>\n",
              "      <th>144</th>\n",
              "      <td>4/29/2020</td>\n",
              "      <td>NaN</td>\n",
              "      <td>Seychelles</td>\n",
              "      <td>11</td>\n",
              "      <td>0</td>\n",
              "      <td>6</td>\n",
              "    </tr>\n",
              "    <tr>\n",
              "      <th>152</th>\n",
              "      <td>4/29/2020</td>\n",
              "      <td>NaN</td>\n",
              "      <td>South Sudan</td>\n",
              "      <td>34</td>\n",
              "      <td>0</td>\n",
              "      <td>0</td>\n",
              "    </tr>\n",
              "    <tr>\n",
              "      <th>163</th>\n",
              "      <td>4/29/2020</td>\n",
              "      <td>NaN</td>\n",
              "      <td>Timor-Leste</td>\n",
              "      <td>24</td>\n",
              "      <td>0</td>\n",
              "      <td>6</td>\n",
              "    </tr>\n",
              "    <tr>\n",
              "      <th>169</th>\n",
              "      <td>4/29/2020</td>\n",
              "      <td>NaN</td>\n",
              "      <td>Uganda</td>\n",
              "      <td>81</td>\n",
              "      <td>0</td>\n",
              "      <td>52</td>\n",
              "    </tr>\n",
              "    <tr>\n",
              "      <th>175</th>\n",
              "      <td>4/29/2020</td>\n",
              "      <td>NaN</td>\n",
              "      <td>Vietnam</td>\n",
              "      <td>270</td>\n",
              "      <td>0</td>\n",
              "      <td>222</td>\n",
              "    </tr>\n",
              "    <tr>\n",
              "      <th>204</th>\n",
              "      <td>4/29/2020</td>\n",
              "      <td>Diamond Princess cruise ship</td>\n",
              "      <td>US</td>\n",
              "      <td>49</td>\n",
              "      <td>0</td>\n",
              "      <td>0</td>\n",
              "    </tr>\n",
              "    <tr>\n",
              "      <th>206</th>\n",
              "      <td>4/29/2020</td>\n",
              "      <td>Falkland Islands (Malvinas)</td>\n",
              "      <td>UK</td>\n",
              "      <td>13</td>\n",
              "      <td>0</td>\n",
              "      <td>11</td>\n",
              "    </tr>\n",
              "    <tr>\n",
              "      <th>207</th>\n",
              "      <td>4/29/2020</td>\n",
              "      <td>Faroe Islands</td>\n",
              "      <td>Denmark</td>\n",
              "      <td>187</td>\n",
              "      <td>0</td>\n",
              "      <td>181</td>\n",
              "    </tr>\n",
              "    <tr>\n",
              "      <th>210</th>\n",
              "      <td>4/29/2020</td>\n",
              "      <td>French Polynesia</td>\n",
              "      <td>France</td>\n",
              "      <td>58</td>\n",
              "      <td>0</td>\n",
              "      <td>50</td>\n",
              "    </tr>\n",
              "    <tr>\n",
              "      <th>214</th>\n",
              "      <td>4/29/2020</td>\n",
              "      <td>Gibraltar</td>\n",
              "      <td>UK</td>\n",
              "      <td>141</td>\n",
              "      <td>0</td>\n",
              "      <td>131</td>\n",
              "    </tr>\n",
              "    <tr>\n",
              "      <th>215</th>\n",
              "      <td>4/29/2020</td>\n",
              "      <td>Grand Princess</td>\n",
              "      <td>Canada</td>\n",
              "      <td>13</td>\n",
              "      <td>0</td>\n",
              "      <td>0</td>\n",
              "    </tr>\n",
              "    <tr>\n",
              "      <th>217</th>\n",
              "      <td>4/29/2020</td>\n",
              "      <td>Greenland</td>\n",
              "      <td>Denmark</td>\n",
              "      <td>11</td>\n",
              "      <td>0</td>\n",
              "      <td>11</td>\n",
              "    </tr>\n",
              "    <tr>\n",
              "      <th>237</th>\n",
              "      <td>4/29/2020</td>\n",
              "      <td>Jiangsu</td>\n",
              "      <td>Mainland China</td>\n",
              "      <td>653</td>\n",
              "      <td>0</td>\n",
              "      <td>648</td>\n",
              "    </tr>\n",
              "    <tr>\n",
              "      <th>244</th>\n",
              "      <td>4/29/2020</td>\n",
              "      <td>Macau</td>\n",
              "      <td>Macau</td>\n",
              "      <td>45</td>\n",
              "      <td>0</td>\n",
              "      <td>34</td>\n",
              "    </tr>\n",
              "    <tr>\n",
              "      <th>259</th>\n",
              "      <td>4/29/2020</td>\n",
              "      <td>New Brunswick</td>\n",
              "      <td>Canada</td>\n",
              "      <td>118</td>\n",
              "      <td>0</td>\n",
              "      <td>0</td>\n",
              "    </tr>\n",
              "    <tr>\n",
              "      <th>260</th>\n",
              "      <td>4/29/2020</td>\n",
              "      <td>New Caledonia</td>\n",
              "      <td>France</td>\n",
              "      <td>18</td>\n",
              "      <td>0</td>\n",
              "      <td>17</td>\n",
              "    </tr>\n",
              "    <tr>\n",
              "      <th>267</th>\n",
              "      <td>4/29/2020</td>\n",
              "      <td>Ningxia</td>\n",
              "      <td>Mainland China</td>\n",
              "      <td>75</td>\n",
              "      <td>0</td>\n",
              "      <td>75</td>\n",
              "    </tr>\n",
              "    <tr>\n",
              "      <th>271</th>\n",
              "      <td>4/29/2020</td>\n",
              "      <td>Northern Territory</td>\n",
              "      <td>Australia</td>\n",
              "      <td>28</td>\n",
              "      <td>0</td>\n",
              "      <td>25</td>\n",
              "    </tr>\n",
              "    <tr>\n",
              "      <th>279</th>\n",
              "      <td>4/29/2020</td>\n",
              "      <td>Prince Edward Island</td>\n",
              "      <td>Canada</td>\n",
              "      <td>27</td>\n",
              "      <td>0</td>\n",
              "      <td>0</td>\n",
              "    </tr>\n",
              "    <tr>\n",
              "      <th>281</th>\n",
              "      <td>4/29/2020</td>\n",
              "      <td>Qinghai</td>\n",
              "      <td>Mainland China</td>\n",
              "      <td>18</td>\n",
              "      <td>0</td>\n",
              "      <td>18</td>\n",
              "    </tr>\n",
              "    <tr>\n",
              "      <th>286</th>\n",
              "      <td>4/29/2020</td>\n",
              "      <td>Reunion</td>\n",
              "      <td>France</td>\n",
              "      <td>420</td>\n",
              "      <td>0</td>\n",
              "      <td>300</td>\n",
              "    </tr>\n",
              "    <tr>\n",
              "      <th>294</th>\n",
              "      <td>4/29/2020</td>\n",
              "      <td>Shanxi</td>\n",
              "      <td>Mainland China</td>\n",
              "      <td>197</td>\n",
              "      <td>0</td>\n",
              "      <td>164</td>\n",
              "    </tr>\n",
              "    <tr>\n",
              "      <th>318</th>\n",
              "      <td>4/29/2020</td>\n",
              "      <td>Yukon</td>\n",
              "      <td>Canada</td>\n",
              "      <td>11</td>\n",
              "      <td>0</td>\n",
              "      <td>0</td>\n",
              "    </tr>\n",
              "  </tbody>\n",
              "</table>\n",
              "</div>"
            ],
            "text/plain": [
              "          Date                         State  ... Deaths  Recovered\n",
              "29   4/29/2020                           NaN  ...      0        119\n",
              "31   4/29/2020                           NaN  ...      0         10\n",
              "45   4/29/2020                           NaN  ...      0         13\n",
              "51   4/29/2020                           NaN  ...      0         19\n",
              "55   4/29/2020                           NaN  ...      0         12\n",
              "64   4/29/2020                           NaN  ...      0         13\n",
              "70   4/29/2020                           NaN  ...      0          2\n",
              "90   4/29/2020                           NaN  ...      0          7\n",
              "99   4/29/2020                           NaN  ...      0         90\n",
              "110  4/29/2020                           NaN  ...      0         10\n",
              "113  4/29/2020                           NaN  ...      0         12\n",
              "114  4/29/2020                           NaN  ...      0          8\n",
              "115  4/29/2020                           NaN  ...      0         16\n",
              "135  4/29/2020                           NaN  ...      0         98\n",
              "136  4/29/2020                           NaN  ...      0          4\n",
              "137  4/29/2020                           NaN  ...      0         15\n",
              "138  4/29/2020                           NaN  ...      0          8\n",
              "144  4/29/2020                           NaN  ...      0          6\n",
              "152  4/29/2020                           NaN  ...      0          0\n",
              "163  4/29/2020                           NaN  ...      0          6\n",
              "169  4/29/2020                           NaN  ...      0         52\n",
              "175  4/29/2020                           NaN  ...      0        222\n",
              "204  4/29/2020  Diamond Princess cruise ship  ...      0          0\n",
              "206  4/29/2020   Falkland Islands (Malvinas)  ...      0         11\n",
              "207  4/29/2020                 Faroe Islands  ...      0        181\n",
              "210  4/29/2020              French Polynesia  ...      0         50\n",
              "214  4/29/2020                     Gibraltar  ...      0        131\n",
              "215  4/29/2020                Grand Princess  ...      0          0\n",
              "217  4/29/2020                     Greenland  ...      0         11\n",
              "237  4/29/2020                       Jiangsu  ...      0        648\n",
              "244  4/29/2020                         Macau  ...      0         34\n",
              "259  4/29/2020                 New Brunswick  ...      0          0\n",
              "260  4/29/2020                 New Caledonia  ...      0         17\n",
              "267  4/29/2020                       Ningxia  ...      0         75\n",
              "271  4/29/2020            Northern Territory  ...      0         25\n",
              "279  4/29/2020          Prince Edward Island  ...      0          0\n",
              "281  4/29/2020                       Qinghai  ...      0         18\n",
              "286  4/29/2020                       Reunion  ...      0        300\n",
              "294  4/29/2020                        Shanxi  ...      0        164\n",
              "318  4/29/2020                         Yukon  ...      0          0\n",
              "\n",
              "[40 rows x 6 columns]"
            ]
          },
          "metadata": {
            "tags": []
          },
          "execution_count": 59
        }
      ]
    },
    {
      "cell_type": "code",
      "metadata": {
        "colab": {
          "base_uri": "https://localhost:8080/"
        },
        "id": "rBCJwBK7nTM_",
        "outputId": "4d91bc84-9cd5-479e-8287-73b53151a761"
      },
      "source": [
        "covid_df[covid_df['Deaths'] == covid_df['Deaths'].min()]['Region']"
      ],
      "execution_count": 60,
      "outputs": [
        {
          "output_type": "execute_result",
          "data": {
            "text/plain": [
              "29                             Cambodia\n",
              "31             Central African Republic\n",
              "45                             Dominica\n",
              "51                              Eritrea\n",
              "55                                 Fiji\n",
              "64                              Grenada\n",
              "70                             Holy See\n",
              "90                                 Laos\n",
              "99                           Madagascar\n",
              "110                            Mongolia\n",
              "113                          Mozambique\n",
              "114                             Namibia\n",
              "115                               Nepal\n",
              "135                              Rwanda\n",
              "136               Saint Kitts and Nevis\n",
              "137                         Saint Lucia\n",
              "138    Saint Vincent and the Grenadines\n",
              "144                          Seychelles\n",
              "152                         South Sudan\n",
              "163                         Timor-Leste\n",
              "169                              Uganda\n",
              "175                             Vietnam\n",
              "204                                  US\n",
              "206                                  UK\n",
              "207                             Denmark\n",
              "210                              France\n",
              "214                                  UK\n",
              "215                              Canada\n",
              "217                             Denmark\n",
              "237                      Mainland China\n",
              "244                               Macau\n",
              "259                              Canada\n",
              "260                              France\n",
              "267                      Mainland China\n",
              "271                           Australia\n",
              "279                              Canada\n",
              "281                      Mainland China\n",
              "286                              France\n",
              "294                      Mainland China\n",
              "318                              Canada\n",
              "Name: Region, dtype: object"
            ]
          },
          "metadata": {
            "tags": []
          },
          "execution_count": 60
        }
      ]
    },
    {
      "cell_type": "markdown",
      "metadata": {
        "id": "mV4WpCMGn3zd"
      },
      "source": [
        "How many confirmed, deaths and recovered cases were reported from Pakistan till 29 April 2020?"
      ]
    },
    {
      "cell_type": "code",
      "metadata": {
        "colab": {
          "base_uri": "https://localhost:8080/",
          "height": 205
        },
        "id": "gr-ClZCCnU1c",
        "outputId": "2916790f-02d4-422b-bf6f-a765d9ba3332"
      },
      "source": [
        "covid_df.head()"
      ],
      "execution_count": 61,
      "outputs": [
        {
          "output_type": "execute_result",
          "data": {
            "text/html": [
              "<div>\n",
              "<style scoped>\n",
              "    .dataframe tbody tr th:only-of-type {\n",
              "        vertical-align: middle;\n",
              "    }\n",
              "\n",
              "    .dataframe tbody tr th {\n",
              "        vertical-align: top;\n",
              "    }\n",
              "\n",
              "    .dataframe thead th {\n",
              "        text-align: right;\n",
              "    }\n",
              "</style>\n",
              "<table border=\"1\" class=\"dataframe\">\n",
              "  <thead>\n",
              "    <tr style=\"text-align: right;\">\n",
              "      <th></th>\n",
              "      <th>Date</th>\n",
              "      <th>State</th>\n",
              "      <th>Region</th>\n",
              "      <th>Confirmed</th>\n",
              "      <th>Deaths</th>\n",
              "      <th>Recovered</th>\n",
              "    </tr>\n",
              "  </thead>\n",
              "  <tbody>\n",
              "    <tr>\n",
              "      <th>0</th>\n",
              "      <td>4/29/2020</td>\n",
              "      <td>NaN</td>\n",
              "      <td>Afghanistan</td>\n",
              "      <td>1939</td>\n",
              "      <td>60</td>\n",
              "      <td>252</td>\n",
              "    </tr>\n",
              "    <tr>\n",
              "      <th>1</th>\n",
              "      <td>4/29/2020</td>\n",
              "      <td>NaN</td>\n",
              "      <td>Albania</td>\n",
              "      <td>766</td>\n",
              "      <td>30</td>\n",
              "      <td>455</td>\n",
              "    </tr>\n",
              "    <tr>\n",
              "      <th>2</th>\n",
              "      <td>4/29/2020</td>\n",
              "      <td>NaN</td>\n",
              "      <td>Algeria</td>\n",
              "      <td>3848</td>\n",
              "      <td>444</td>\n",
              "      <td>1702</td>\n",
              "    </tr>\n",
              "    <tr>\n",
              "      <th>3</th>\n",
              "      <td>4/29/2020</td>\n",
              "      <td>NaN</td>\n",
              "      <td>Andorra</td>\n",
              "      <td>743</td>\n",
              "      <td>42</td>\n",
              "      <td>423</td>\n",
              "    </tr>\n",
              "    <tr>\n",
              "      <th>4</th>\n",
              "      <td>4/29/2020</td>\n",
              "      <td>NaN</td>\n",
              "      <td>Angola</td>\n",
              "      <td>27</td>\n",
              "      <td>2</td>\n",
              "      <td>7</td>\n",
              "    </tr>\n",
              "  </tbody>\n",
              "</table>\n",
              "</div>"
            ],
            "text/plain": [
              "        Date State       Region  Confirmed  Deaths  Recovered\n",
              "0  4/29/2020   NaN  Afghanistan       1939      60        252\n",
              "1  4/29/2020   NaN      Albania        766      30        455\n",
              "2  4/29/2020   NaN      Algeria       3848     444       1702\n",
              "3  4/29/2020   NaN      Andorra        743      42        423\n",
              "4  4/29/2020   NaN       Angola         27       2          7"
            ]
          },
          "metadata": {
            "tags": []
          },
          "execution_count": 61
        }
      ]
    },
    {
      "cell_type": "code",
      "metadata": {
        "colab": {
          "base_uri": "https://localhost:8080/",
          "height": 81
        },
        "id": "zuezUlJVoJGx",
        "outputId": "d4c9e246-a14d-4b6e-c6ba-a0d52fe20b48"
      },
      "source": [
        "covid_df[covid_df['Region'] == \"Pakistan\"]"
      ],
      "execution_count": 69,
      "outputs": [
        {
          "output_type": "execute_result",
          "data": {
            "text/html": [
              "<div>\n",
              "<style scoped>\n",
              "    .dataframe tbody tr th:only-of-type {\n",
              "        vertical-align: middle;\n",
              "    }\n",
              "\n",
              "    .dataframe tbody tr th {\n",
              "        vertical-align: top;\n",
              "    }\n",
              "\n",
              "    .dataframe thead th {\n",
              "        text-align: right;\n",
              "    }\n",
              "</style>\n",
              "<table border=\"1\" class=\"dataframe\">\n",
              "  <thead>\n",
              "    <tr style=\"text-align: right;\">\n",
              "      <th></th>\n",
              "      <th>Date</th>\n",
              "      <th>State</th>\n",
              "      <th>Region</th>\n",
              "      <th>Confirmed</th>\n",
              "      <th>Deaths</th>\n",
              "      <th>Recovered</th>\n",
              "    </tr>\n",
              "  </thead>\n",
              "  <tbody>\n",
              "    <tr>\n",
              "      <th>124</th>\n",
              "      <td>4/29/2020</td>\n",
              "      <td>NaN</td>\n",
              "      <td>Pakistan</td>\n",
              "      <td>15525</td>\n",
              "      <td>343</td>\n",
              "      <td>3425</td>\n",
              "    </tr>\n",
              "  </tbody>\n",
              "</table>\n",
              "</div>"
            ],
            "text/plain": [
              "          Date State    Region  Confirmed  Deaths  Recovered\n",
              "124  4/29/2020   NaN  Pakistan      15525     343       3425"
            ]
          },
          "metadata": {
            "tags": []
          },
          "execution_count": 69
        }
      ]
    },
    {
      "cell_type": "markdown",
      "metadata": {
        "id": "ayrXih1dpJYr"
      },
      "source": [
        "Sort the entire data w.r.t number of confirmed cases in ascending order"
      ]
    },
    {
      "cell_type": "code",
      "metadata": {
        "colab": {
          "base_uri": "https://localhost:8080/",
          "height": 422
        },
        "id": "GAsNkE4coY6n",
        "outputId": "e81f14df-6a7d-492a-c8da-6f7e8f6fa85b"
      },
      "source": [
        "covid_df.sort_values(by=['Confirmed'], ascending= True)"
      ],
      "execution_count": 75,
      "outputs": [
        {
          "output_type": "execute_result",
          "data": {
            "text/html": [
              "<div>\n",
              "<style scoped>\n",
              "    .dataframe tbody tr th:only-of-type {\n",
              "        vertical-align: middle;\n",
              "    }\n",
              "\n",
              "    .dataframe tbody tr th {\n",
              "        vertical-align: top;\n",
              "    }\n",
              "\n",
              "    .dataframe thead th {\n",
              "        text-align: right;\n",
              "    }\n",
              "</style>\n",
              "<table border=\"1\" class=\"dataframe\">\n",
              "  <thead>\n",
              "    <tr style=\"text-align: right;\">\n",
              "      <th></th>\n",
              "      <th>Date</th>\n",
              "      <th>State</th>\n",
              "      <th>Region</th>\n",
              "      <th>Confirmed</th>\n",
              "      <th>Deaths</th>\n",
              "      <th>Recovered</th>\n",
              "    </tr>\n",
              "  </thead>\n",
              "  <tbody>\n",
              "    <tr>\n",
              "      <th>156</th>\n",
              "      <td>4/29/2020</td>\n",
              "      <td>NaN</td>\n",
              "      <td>Suriname</td>\n",
              "      <td>10</td>\n",
              "      <td>1</td>\n",
              "      <td>8</td>\n",
              "    </tr>\n",
              "    <tr>\n",
              "      <th>70</th>\n",
              "      <td>4/29/2020</td>\n",
              "      <td>NaN</td>\n",
              "      <td>Holy See</td>\n",
              "      <td>10</td>\n",
              "      <td>0</td>\n",
              "      <td>2</td>\n",
              "    </tr>\n",
              "    <tr>\n",
              "      <th>59</th>\n",
              "      <td>4/29/2020</td>\n",
              "      <td>NaN</td>\n",
              "      <td>Gambia</td>\n",
              "      <td>10</td>\n",
              "      <td>1</td>\n",
              "      <td>8</td>\n",
              "    </tr>\n",
              "    <tr>\n",
              "      <th>318</th>\n",
              "      <td>4/29/2020</td>\n",
              "      <td>Yukon</td>\n",
              "      <td>Canada</td>\n",
              "      <td>11</td>\n",
              "      <td>0</td>\n",
              "      <td>0</td>\n",
              "    </tr>\n",
              "    <tr>\n",
              "      <th>217</th>\n",
              "      <td>4/29/2020</td>\n",
              "      <td>Greenland</td>\n",
              "      <td>Denmark</td>\n",
              "      <td>11</td>\n",
              "      <td>0</td>\n",
              "      <td>11</td>\n",
              "    </tr>\n",
              "    <tr>\n",
              "      <th>...</th>\n",
              "      <td>...</td>\n",
              "      <td>...</td>\n",
              "      <td>...</td>\n",
              "      <td>...</td>\n",
              "      <td>...</td>\n",
              "      <td>...</td>\n",
              "    </tr>\n",
              "    <tr>\n",
              "      <th>57</th>\n",
              "      <td>4/29/2020</td>\n",
              "      <td>NaN</td>\n",
              "      <td>France</td>\n",
              "      <td>165093</td>\n",
              "      <td>24087</td>\n",
              "      <td>48228</td>\n",
              "    </tr>\n",
              "    <tr>\n",
              "      <th>168</th>\n",
              "      <td>4/29/2020</td>\n",
              "      <td>NaN</td>\n",
              "      <td>UK</td>\n",
              "      <td>165221</td>\n",
              "      <td>26097</td>\n",
              "      <td>0</td>\n",
              "    </tr>\n",
              "    <tr>\n",
              "      <th>80</th>\n",
              "      <td>4/29/2020</td>\n",
              "      <td>NaN</td>\n",
              "      <td>Italy</td>\n",
              "      <td>203591</td>\n",
              "      <td>27682</td>\n",
              "      <td>71252</td>\n",
              "    </tr>\n",
              "    <tr>\n",
              "      <th>153</th>\n",
              "      <td>4/29/2020</td>\n",
              "      <td>NaN</td>\n",
              "      <td>Spain</td>\n",
              "      <td>236899</td>\n",
              "      <td>24275</td>\n",
              "      <td>132929</td>\n",
              "    </tr>\n",
              "    <tr>\n",
              "      <th>265</th>\n",
              "      <td>4/29/2020</td>\n",
              "      <td>New York</td>\n",
              "      <td>US</td>\n",
              "      <td>299691</td>\n",
              "      <td>23477</td>\n",
              "      <td>0</td>\n",
              "    </tr>\n",
              "  </tbody>\n",
              "</table>\n",
              "<p>304 rows × 6 columns</p>\n",
              "</div>"
            ],
            "text/plain": [
              "          Date      State    Region  Confirmed  Deaths  Recovered\n",
              "156  4/29/2020        NaN  Suriname         10       1          8\n",
              "70   4/29/2020        NaN  Holy See         10       0          2\n",
              "59   4/29/2020        NaN    Gambia         10       1          8\n",
              "318  4/29/2020      Yukon    Canada         11       0          0\n",
              "217  4/29/2020  Greenland   Denmark         11       0         11\n",
              "..         ...        ...       ...        ...     ...        ...\n",
              "57   4/29/2020        NaN    France     165093   24087      48228\n",
              "168  4/29/2020        NaN        UK     165221   26097          0\n",
              "80   4/29/2020        NaN     Italy     203591   27682      71252\n",
              "153  4/29/2020        NaN     Spain     236899   24275     132929\n",
              "265  4/29/2020   New York        US     299691   23477          0\n",
              "\n",
              "[304 rows x 6 columns]"
            ]
          },
          "metadata": {
            "tags": []
          },
          "execution_count": 75
        }
      ]
    },
    {
      "cell_type": "markdown",
      "metadata": {
        "id": "qRixtyRMp20u"
      },
      "source": [
        "Sort the entire data w.r.t number of recovered cases in descending order"
      ]
    },
    {
      "cell_type": "code",
      "metadata": {
        "colab": {
          "base_uri": "https://localhost:8080/",
          "height": 422
        },
        "id": "PtnHcLMBppWM",
        "outputId": "023287a1-bdce-4525-da7a-f02d4dba2601"
      },
      "source": [
        "covid_df.sort_values(by=['Recovered'], ascending=False)"
      ],
      "execution_count": 74,
      "outputs": [
        {
          "output_type": "execute_result",
          "data": {
            "text/html": [
              "<div>\n",
              "<style scoped>\n",
              "    .dataframe tbody tr th:only-of-type {\n",
              "        vertical-align: middle;\n",
              "    }\n",
              "\n",
              "    .dataframe tbody tr th {\n",
              "        vertical-align: top;\n",
              "    }\n",
              "\n",
              "    .dataframe thead th {\n",
              "        text-align: right;\n",
              "    }\n",
              "</style>\n",
              "<table border=\"1\" class=\"dataframe\">\n",
              "  <thead>\n",
              "    <tr style=\"text-align: right;\">\n",
              "      <th></th>\n",
              "      <th>Date</th>\n",
              "      <th>State</th>\n",
              "      <th>Region</th>\n",
              "      <th>Confirmed</th>\n",
              "      <th>Deaths</th>\n",
              "      <th>Recovered</th>\n",
              "    </tr>\n",
              "  </thead>\n",
              "  <tbody>\n",
              "    <tr>\n",
              "      <th>153</th>\n",
              "      <td>4/29/2020</td>\n",
              "      <td>NaN</td>\n",
              "      <td>Spain</td>\n",
              "      <td>236899</td>\n",
              "      <td>24275</td>\n",
              "      <td>132929</td>\n",
              "    </tr>\n",
              "    <tr>\n",
              "      <th>61</th>\n",
              "      <td>4/29/2020</td>\n",
              "      <td>NaN</td>\n",
              "      <td>Germany</td>\n",
              "      <td>161539</td>\n",
              "      <td>6467</td>\n",
              "      <td>120400</td>\n",
              "    </tr>\n",
              "    <tr>\n",
              "      <th>76</th>\n",
              "      <td>4/29/2020</td>\n",
              "      <td>NaN</td>\n",
              "      <td>Iran</td>\n",
              "      <td>93657</td>\n",
              "      <td>5957</td>\n",
              "      <td>73791</td>\n",
              "    </tr>\n",
              "    <tr>\n",
              "      <th>80</th>\n",
              "      <td>4/29/2020</td>\n",
              "      <td>NaN</td>\n",
              "      <td>Italy</td>\n",
              "      <td>203591</td>\n",
              "      <td>27682</td>\n",
              "      <td>71252</td>\n",
              "    </tr>\n",
              "    <tr>\n",
              "      <th>229</th>\n",
              "      <td>4/29/2020</td>\n",
              "      <td>Hubei</td>\n",
              "      <td>Mainland China</td>\n",
              "      <td>68128</td>\n",
              "      <td>4512</td>\n",
              "      <td>63616</td>\n",
              "    </tr>\n",
              "    <tr>\n",
              "      <th>...</th>\n",
              "      <td>...</td>\n",
              "      <td>...</td>\n",
              "      <td>...</td>\n",
              "      <td>...</td>\n",
              "      <td>...</td>\n",
              "      <td>...</td>\n",
              "    </tr>\n",
              "    <tr>\n",
              "      <th>258</th>\n",
              "      <td>4/29/2020</td>\n",
              "      <td>Nevada</td>\n",
              "      <td>US</td>\n",
              "      <td>4934</td>\n",
              "      <td>230</td>\n",
              "      <td>0</td>\n",
              "    </tr>\n",
              "    <tr>\n",
              "      <th>257</th>\n",
              "      <td>4/29/2020</td>\n",
              "      <td>Nebraska</td>\n",
              "      <td>US</td>\n",
              "      <td>3851</td>\n",
              "      <td>56</td>\n",
              "      <td>0</td>\n",
              "    </tr>\n",
              "    <tr>\n",
              "      <th>255</th>\n",
              "      <td>4/29/2020</td>\n",
              "      <td>Montana</td>\n",
              "      <td>US</td>\n",
              "      <td>451</td>\n",
              "      <td>16</td>\n",
              "      <td>0</td>\n",
              "    </tr>\n",
              "    <tr>\n",
              "      <th>254</th>\n",
              "      <td>4/29/2020</td>\n",
              "      <td>Missouri</td>\n",
              "      <td>US</td>\n",
              "      <td>7660</td>\n",
              "      <td>338</td>\n",
              "      <td>0</td>\n",
              "    </tr>\n",
              "    <tr>\n",
              "      <th>274</th>\n",
              "      <td>4/29/2020</td>\n",
              "      <td>Ohio</td>\n",
              "      <td>US</td>\n",
              "      <td>17303</td>\n",
              "      <td>937</td>\n",
              "      <td>0</td>\n",
              "    </tr>\n",
              "  </tbody>\n",
              "</table>\n",
              "<p>304 rows × 6 columns</p>\n",
              "</div>"
            ],
            "text/plain": [
              "          Date     State          Region  Confirmed  Deaths  Recovered\n",
              "153  4/29/2020       NaN           Spain     236899   24275     132929\n",
              "61   4/29/2020       NaN         Germany     161539    6467     120400\n",
              "76   4/29/2020       NaN            Iran      93657    5957      73791\n",
              "80   4/29/2020       NaN           Italy     203591   27682      71252\n",
              "229  4/29/2020     Hubei  Mainland China      68128    4512      63616\n",
              "..         ...       ...             ...        ...     ...        ...\n",
              "258  4/29/2020    Nevada              US       4934     230          0\n",
              "257  4/29/2020  Nebraska              US       3851      56          0\n",
              "255  4/29/2020   Montana              US        451      16          0\n",
              "254  4/29/2020  Missouri              US       7660     338          0\n",
              "274  4/29/2020      Ohio              US      17303     937          0\n",
              "\n",
              "[304 rows x 6 columns]"
            ]
          },
          "metadata": {
            "tags": []
          },
          "execution_count": 74
        }
      ]
    },
    {
      "cell_type": "code",
      "metadata": {
        "id": "snzf_gMXqBSq"
      },
      "source": [
        ""
      ],
      "execution_count": null,
      "outputs": []
    }
  ]
}